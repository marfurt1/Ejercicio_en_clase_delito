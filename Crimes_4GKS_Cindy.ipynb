{
 "cells": [
  {
   "cell_type": "code",
   "execution_count": 10,
   "metadata": {},
   "outputs": [
    {
     "ename": "ModuleNotFoundError",
     "evalue": "No module named 'pandas'",
     "output_type": "error",
     "traceback": [
      "\u001b[0;31m---------------------------------------------------------------------------\u001b[0m",
      "\u001b[0;31mModuleNotFoundError\u001b[0m                       Traceback (most recent call last)",
      "\u001b[1;32m/workspace/Ejercicio_en_clase_delito/Crimes_4GKS_Cindy.ipynb Cell 1'\u001b[0m in \u001b[0;36m<cell line: 1>\u001b[0;34m()\u001b[0m\n\u001b[0;32m----> <a href='vscode-notebook-cell://marfurt1-ejercicioencla-5jsg7y37h6n.ws-us47.gitpod.io/workspace/Ejercicio_en_clase_delito/Crimes_4GKS_Cindy.ipynb#ch0000000vscode-remote?line=0'>1</a>\u001b[0m \u001b[39mimport\u001b[39;00m \u001b[39mpandas\u001b[39;00m \u001b[39mas\u001b[39;00m \u001b[39mpd\u001b[39;00m\n\u001b[1;32m      <a href='vscode-notebook-cell://marfurt1-ejercicioencla-5jsg7y37h6n.ws-us47.gitpod.io/workspace/Ejercicio_en_clase_delito/Crimes_4GKS_Cindy.ipynb#ch0000000vscode-remote?line=2'>3</a>\u001b[0m \u001b[39mimport\u001b[39;00m \u001b[39mnumpy\u001b[39;00m \u001b[39mas\u001b[39;00m \u001b[39mnp\u001b[39;00m\n\u001b[1;32m      <a href='vscode-notebook-cell://marfurt1-ejercicioencla-5jsg7y37h6n.ws-us47.gitpod.io/workspace/Ejercicio_en_clase_delito/Crimes_4GKS_Cindy.ipynb#ch0000000vscode-remote?line=4'>5</a>\u001b[0m \u001b[39mimport\u001b[39;00m \u001b[39mmatplotlib\u001b[39;00m\u001b[39m.\u001b[39;00m\u001b[39mpyplot\u001b[39;00m \u001b[39mas\u001b[39;00m \u001b[39mplt\u001b[39;00m\n",
      "\u001b[0;31mModuleNotFoundError\u001b[0m: No module named 'pandas'"
     ]
    }
   ],
   "source": [
    "import pandas as pd\n",
    "\n",
    "import numpy as np\n",
    "\n",
    "import matplotlib.pyplot as plt\n",
    "\n",
    "import seaborn as sns\n",
    "\n",
    "import plotly.express as px\n",
    "\n",
    "import folium \n",
    "\n",
    "from folium.plugins import MarkerCluster "
   ]
  },
  {
   "cell_type": "code",
   "execution_count": 83,
   "metadata": {},
   "outputs": [],
   "source": [
    "# 1. Read the dataset\n",
    "url = 'https://datos.cdmx.gob.mx/dataset/12d22477-bcf1-49ee-92aa-16a0d0a5817c/' + \\\n",
    "      'resource/3f308147-b1fc-49a9-92b7-e74f3f79aa9c/download/' + \\\n",
    "      'carpetas-de-investigacion-pgj-cdmx.csv'\n",
    "df = pd.read_csv(url)"
   ]
  },
  {
   "cell_type": "code",
   "execution_count": 84,
   "metadata": {},
   "outputs": [],
   "source": [
    "# 2. View the basic data structure and dimensions \n"
   ]
  },
  {
   "cell_type": "code",
   "execution_count": 85,
   "metadata": {},
   "outputs": [
    {
     "data": {
      "text/html": [
       "<div>\n",
       "<style scoped>\n",
       "    .dataframe tbody tr th:only-of-type {\n",
       "        vertical-align: middle;\n",
       "    }\n",
       "\n",
       "    .dataframe tbody tr th {\n",
       "        vertical-align: top;\n",
       "    }\n",
       "\n",
       "    .dataframe thead th {\n",
       "        text-align: right;\n",
       "    }\n",
       "</style>\n",
       "<table border=\"1\" class=\"dataframe\">\n",
       "  <thead>\n",
       "    <tr style=\"text-align: right;\">\n",
       "      <th></th>\n",
       "      <th>id</th>\n",
       "      <th>ao_hechos</th>\n",
       "      <th>mes_hechos</th>\n",
       "      <th>fecha_hechos</th>\n",
       "      <th>delito</th>\n",
       "      <th>categoria_delito</th>\n",
       "      <th>fiscalia</th>\n",
       "      <th>agencia</th>\n",
       "      <th>unidad_investigacion</th>\n",
       "      <th>colonia_hechos</th>\n",
       "      <th>alcaldia_hechos</th>\n",
       "      <th>fecha_inicio</th>\n",
       "      <th>mes_inicio</th>\n",
       "      <th>ao_inicio</th>\n",
       "      <th>calle_hechos</th>\n",
       "      <th>calle_hechos2</th>\n",
       "      <th>longitud</th>\n",
       "      <th>latitud</th>\n",
       "      <th>geopoint</th>\n",
       "    </tr>\n",
       "  </thead>\n",
       "  <tbody>\n",
       "    <tr>\n",
       "      <th>0</th>\n",
       "      <td>0</td>\n",
       "      <td>2016.0</td>\n",
       "      <td>Enero</td>\n",
       "      <td>2016-01-05 17:00:00</td>\n",
       "      <td>LESIONES CULPOSAS</td>\n",
       "      <td>DELITO DE BAJO IMPACTO</td>\n",
       "      <td>INVESTIGACIÓN EN GUSTAVO A. MADERO</td>\n",
       "      <td>GAM-6</td>\n",
       "      <td>UI-1CD</td>\n",
       "      <td>GRANJAS MODERNAS</td>\n",
       "      <td>GUSTAVO A MADERO</td>\n",
       "      <td>2016-01-05 18:35:37</td>\n",
       "      <td>Enero</td>\n",
       "      <td>2016</td>\n",
       "      <td>SAN JUAN DE ARAGON</td>\n",
       "      <td>CALLE ANZAR</td>\n",
       "      <td>-99.103527</td>\n",
       "      <td>19.481076</td>\n",
       "      <td>19.4810759998,-99.103527</td>\n",
       "    </tr>\n",
       "    <tr>\n",
       "      <th>1</th>\n",
       "      <td>1</td>\n",
       "      <td>2017.0</td>\n",
       "      <td>Noviembre</td>\n",
       "      <td>2017-11-01 14:00:00</td>\n",
       "      <td>ROBO DE VEHICULO DE SERVICIO PARTICULAR SIN VI...</td>\n",
       "      <td>ROBO DE VEHÍCULO CON Y SIN VIOLENCIA</td>\n",
       "      <td>INVESTIGACIÓN EN AZCAPOTZALCO</td>\n",
       "      <td>AZ-1</td>\n",
       "      <td>UI-1SD</td>\n",
       "      <td>NaN</td>\n",
       "      <td>TLALNEPANTLA DE BAZ</td>\n",
       "      <td>2017-11-01 16:45:20</td>\n",
       "      <td>Noviembre</td>\n",
       "      <td>2017</td>\n",
       "      <td>BENITO JUAREZ</td>\n",
       "      <td>MUNICIPIO DE TLALNEPANTLA, ESTADO DE MEXICO</td>\n",
       "      <td>NaN</td>\n",
       "      <td>NaN</td>\n",
       "      <td>NaN</td>\n",
       "    </tr>\n",
       "    <tr>\n",
       "      <th>2</th>\n",
       "      <td>2</td>\n",
       "      <td>2017.0</td>\n",
       "      <td>Noviembre</td>\n",
       "      <td>2017-11-01 16:40:00</td>\n",
       "      <td>ROBO A TRANSEUNTE EN VIA PUBLICA CON VIOLENCIA</td>\n",
       "      <td>ROBO A TRANSEUNTE EN VÍA PÚBLICA CON Y SIN VIO...</td>\n",
       "      <td>INVESTIGACIÓN EN IZTACALCO</td>\n",
       "      <td>IZC-2</td>\n",
       "      <td>UI-1SD</td>\n",
       "      <td>GABRIEL RAMOS MILLÁN SECCIÓN TLACOTAL</td>\n",
       "      <td>IZTACALCO</td>\n",
       "      <td>2017-11-01 16:56:04</td>\n",
       "      <td>Noviembre</td>\n",
       "      <td>2017</td>\n",
       "      <td>SUR 117</td>\n",
       "      <td>ORIENTE 100A</td>\n",
       "      <td>-99.106072</td>\n",
       "      <td>19.395398</td>\n",
       "      <td>19.3953976727,-99.1060723829</td>\n",
       "    </tr>\n",
       "    <tr>\n",
       "      <th>3</th>\n",
       "      <td>3</td>\n",
       "      <td>2015.0</td>\n",
       "      <td>Diciembre</td>\n",
       "      <td>2015-12-30 20:00:00</td>\n",
       "      <td>FRAUDE</td>\n",
       "      <td>DELITO DE BAJO IMPACTO</td>\n",
       "      <td>INVESTIGACIÓN EN IZTAPALAPA</td>\n",
       "      <td>IZP-8</td>\n",
       "      <td>UI-1CD</td>\n",
       "      <td>CONSEJO AGRARISTA MEXICANO</td>\n",
       "      <td>IZTAPALAPA</td>\n",
       "      <td>2016-01-05 21:12:42</td>\n",
       "      <td>Enero</td>\n",
       "      <td>2016</td>\n",
       "      <td>CUARTA CERRADA DE FRESNO</td>\n",
       "      <td>ENCINO (SIN REGISTRO DEL SAP)</td>\n",
       "      <td>-99.055887</td>\n",
       "      <td>19.322458</td>\n",
       "      <td>19.3224579998,-99.055887</td>\n",
       "    </tr>\n",
       "    <tr>\n",
       "      <th>4</th>\n",
       "      <td>4</td>\n",
       "      <td>2018.0</td>\n",
       "      <td>Mayo</td>\n",
       "      <td>2018-05-16 16:00:00</td>\n",
       "      <td>ROBO A REPARTIDOR CON VIOLENCIA</td>\n",
       "      <td>ROBO A REPARTIDOR CON Y SIN VIOLENCIA</td>\n",
       "      <td>INVESTIGACIÓN EN IZTAPALAPA</td>\n",
       "      <td>IZP-9</td>\n",
       "      <td>UI-2SD</td>\n",
       "      <td>DESARROLLO URBANO QUETZALCOATL</td>\n",
       "      <td>IZTAPALAPA</td>\n",
       "      <td>2018-05-22 10:44:45</td>\n",
       "      <td>Mayo</td>\n",
       "      <td>2018</td>\n",
       "      <td>TARASCO</td>\n",
       "      <td>ZAPOTECO</td>\n",
       "      <td>-99.042786</td>\n",
       "      <td>19.319141</td>\n",
       "      <td>19.3191405147,-99.0427862526</td>\n",
       "    </tr>\n",
       "  </tbody>\n",
       "</table>\n",
       "</div>"
      ],
      "text/plain": [
       "   id  ao_hechos mes_hechos         fecha_hechos  \\\n",
       "0   0     2016.0      Enero  2016-01-05 17:00:00   \n",
       "1   1     2017.0  Noviembre  2017-11-01 14:00:00   \n",
       "2   2     2017.0  Noviembre  2017-11-01 16:40:00   \n",
       "3   3     2015.0  Diciembre  2015-12-30 20:00:00   \n",
       "4   4     2018.0       Mayo  2018-05-16 16:00:00   \n",
       "\n",
       "                                              delito  \\\n",
       "0                                  LESIONES CULPOSAS   \n",
       "1  ROBO DE VEHICULO DE SERVICIO PARTICULAR SIN VI...   \n",
       "2     ROBO A TRANSEUNTE EN VIA PUBLICA CON VIOLENCIA   \n",
       "3                                             FRAUDE   \n",
       "4                    ROBO A REPARTIDOR CON VIOLENCIA   \n",
       "\n",
       "                                    categoria_delito  \\\n",
       "0                             DELITO DE BAJO IMPACTO   \n",
       "1               ROBO DE VEHÍCULO CON Y SIN VIOLENCIA   \n",
       "2  ROBO A TRANSEUNTE EN VÍA PÚBLICA CON Y SIN VIO...   \n",
       "3                             DELITO DE BAJO IMPACTO   \n",
       "4              ROBO A REPARTIDOR CON Y SIN VIOLENCIA   \n",
       "\n",
       "                             fiscalia agencia unidad_investigacion  \\\n",
       "0  INVESTIGACIÓN EN GUSTAVO A. MADERO   GAM-6               UI-1CD   \n",
       "1       INVESTIGACIÓN EN AZCAPOTZALCO    AZ-1               UI-1SD   \n",
       "2          INVESTIGACIÓN EN IZTACALCO   IZC-2               UI-1SD   \n",
       "3         INVESTIGACIÓN EN IZTAPALAPA   IZP-8               UI-1CD   \n",
       "4         INVESTIGACIÓN EN IZTAPALAPA   IZP-9               UI-2SD   \n",
       "\n",
       "                          colonia_hechos      alcaldia_hechos  \\\n",
       "0                       GRANJAS MODERNAS     GUSTAVO A MADERO   \n",
       "1                                    NaN  TLALNEPANTLA DE BAZ   \n",
       "2  GABRIEL RAMOS MILLÁN SECCIÓN TLACOTAL            IZTACALCO   \n",
       "3             CONSEJO AGRARISTA MEXICANO           IZTAPALAPA   \n",
       "4         DESARROLLO URBANO QUETZALCOATL           IZTAPALAPA   \n",
       "\n",
       "          fecha_inicio mes_inicio  ao_inicio              calle_hechos  \\\n",
       "0  2016-01-05 18:35:37      Enero       2016        SAN JUAN DE ARAGON   \n",
       "1  2017-11-01 16:45:20  Noviembre       2017             BENITO JUAREZ   \n",
       "2  2017-11-01 16:56:04  Noviembre       2017                   SUR 117   \n",
       "3  2016-01-05 21:12:42      Enero       2016  CUARTA CERRADA DE FRESNO   \n",
       "4  2018-05-22 10:44:45       Mayo       2018                   TARASCO   \n",
       "\n",
       "                                 calle_hechos2   longitud    latitud  \\\n",
       "0                                  CALLE ANZAR -99.103527  19.481076   \n",
       "1  MUNICIPIO DE TLALNEPANTLA, ESTADO DE MEXICO        NaN        NaN   \n",
       "2                                 ORIENTE 100A -99.106072  19.395398   \n",
       "3                ENCINO (SIN REGISTRO DEL SAP) -99.055887  19.322458   \n",
       "4                                     ZAPOTECO -99.042786  19.319141   \n",
       "\n",
       "                       geopoint  \n",
       "0      19.4810759998,-99.103527  \n",
       "1                           NaN  \n",
       "2  19.3953976727,-99.1060723829  \n",
       "3      19.3224579998,-99.055887  \n",
       "4  19.3191405147,-99.0427862526  "
      ]
     },
     "execution_count": 85,
     "metadata": {},
     "output_type": "execute_result"
    }
   ],
   "source": [
    "# 3. Display some observations\n",
    "df.head()"
   ]
  },
  {
   "cell_type": "code",
   "execution_count": 86,
   "metadata": {},
   "outputs": [
    {
     "data": {
      "text/plain": [
       "485"
      ]
     },
     "execution_count": 86,
     "metadata": {},
     "output_type": "execute_result"
    }
   ],
   "source": [
    "# We want only the mayors from Ciudad de Mexico\n",
    "df['alcaldia_hechos'].nunique() #cantidad de unicos"
   ]
  },
  {
   "cell_type": "code",
   "execution_count": 87,
   "metadata": {},
   "outputs": [],
   "source": [
    "df=df[df[\"alcaldia_hechos\"].isin(['ALVARO OBREGON','AZCAPOTZALCO','BENITO JUAREZ','COYOACAN','CUAJIMALPA DE MORELOS','CUAUHTEMOC','GUSTAVO A MADERO','IZTACALCO','IZTAPALAPA','LA MAGDALENA CONTRERAS','MIGUEL HIDALGO','MILPA ALTA','TLAHUAC','TLALPAN','VENUSTIANO CARRANZA','XOCHIMILCO'])]"
   ]
  },
  {
   "cell_type": "code",
   "execution_count": 88,
   "metadata": {},
   "outputs": [
    {
     "data": {
      "text/plain": [
       "16"
      ]
     },
     "execution_count": 88,
     "metadata": {},
     "output_type": "execute_result"
    }
   ],
   "source": [
    "# Convert the values to the right type\n",
    "df['alcaldia_hechos'].nunique()"
   ]
  },
  {
   "cell_type": "code",
   "execution_count": 89,
   "metadata": {},
   "outputs": [
    {
     "name": "stdout",
     "output_type": "stream",
     "text": [
      "<class 'pandas.core.frame.DataFrame'>\n",
      "Int64Index: 800207 entries, 0 to 808870\n",
      "Data columns (total 19 columns):\n",
      " #   Column                Non-Null Count   Dtype  \n",
      "---  ------                --------------   -----  \n",
      " 0   id                    800207 non-null  int64  \n",
      " 1   ao_hechos             800021 non-null  float64\n",
      " 2   mes_hechos            800021 non-null  object \n",
      " 3   fecha_hechos          800021 non-null  object \n",
      " 4   delito                800207 non-null  object \n",
      " 5   categoria_delito      800207 non-null  object \n",
      " 6   fiscalia              800207 non-null  object \n",
      " 7   agencia               800207 non-null  object \n",
      " 8   unidad_investigacion  799985 non-null  object \n",
      " 9   colonia_hechos        776763 non-null  object \n",
      " 10  alcaldia_hechos       800207 non-null  object \n",
      " 11  fecha_inicio          800207 non-null  object \n",
      " 12  mes_inicio            800207 non-null  object \n",
      " 13  ao_inicio             800207 non-null  int64  \n",
      " 14  calle_hechos          798142 non-null  object \n",
      " 15  calle_hechos2         324051 non-null  object \n",
      " 16  longitud              777531 non-null  float64\n",
      " 17  latitud               777531 non-null  float64\n",
      " 18  geopoint              777531 non-null  object \n",
      "dtypes: float64(3), int64(2), object(14)\n",
      "memory usage: 122.1+ MB\n"
     ]
    }
   ],
   "source": [
    "df.info()"
   ]
  },
  {
   "cell_type": "code",
   "execution_count": 90,
   "metadata": {},
   "outputs": [],
   "source": [
    "df['fecha_hechos']=df['fecha_hechos'].astype('datetime64')\n",
    "df['fecha_inicio']=df['fecha_inicio'].astype('datetime64')\n",
    "\n",
    "df['mes_hechos']=pd.Categorical(df['mes_hechos'])\n",
    "df['delito']=pd.Categorical(df['delito'])\n",
    "df['categoria_delito']=pd.Categorical(df['categoria_delito'])\n",
    "df['unidad_investigacion']=pd.Categorical(df['unidad_investigacion'])\n"
   ]
  },
  {
   "cell_type": "code",
   "execution_count": 91,
   "metadata": {},
   "outputs": [
    {
     "data": {
      "text/html": [
       "<div>\n",
       "<style scoped>\n",
       "    .dataframe tbody tr th:only-of-type {\n",
       "        vertical-align: middle;\n",
       "    }\n",
       "\n",
       "    .dataframe tbody tr th {\n",
       "        vertical-align: top;\n",
       "    }\n",
       "\n",
       "    .dataframe thead th {\n",
       "        text-align: right;\n",
       "    }\n",
       "</style>\n",
       "<table border=\"1\" class=\"dataframe\">\n",
       "  <thead>\n",
       "    <tr style=\"text-align: right;\">\n",
       "      <th></th>\n",
       "      <th>id</th>\n",
       "      <th>ao_hechos</th>\n",
       "      <th>fecha_hechos</th>\n",
       "      <th>fecha_inicio</th>\n",
       "      <th>ao_inicio</th>\n",
       "      <th>longitud</th>\n",
       "      <th>latitud</th>\n",
       "    </tr>\n",
       "  </thead>\n",
       "  <tbody>\n",
       "    <tr>\n",
       "      <th>count</th>\n",
       "      <td>800207.000000</td>\n",
       "      <td>800021.000000</td>\n",
       "      <td>800021</td>\n",
       "      <td>800207</td>\n",
       "      <td>800207.000000</td>\n",
       "      <td>777531.000000</td>\n",
       "      <td>777531.000000</td>\n",
       "    </tr>\n",
       "    <tr>\n",
       "      <th>mean</th>\n",
       "      <td>404440.724969</td>\n",
       "      <td>2017.233964</td>\n",
       "      <td>2017-09-15 06:18:33.451072768</td>\n",
       "      <td>2017-11-08 17:23:31.065400576</td>\n",
       "      <td>2017.385711</td>\n",
       "      <td>-99.137482</td>\n",
       "      <td>19.388497</td>\n",
       "    </tr>\n",
       "    <tr>\n",
       "      <th>min</th>\n",
       "      <td>0.000000</td>\n",
       "      <td>1906.000000</td>\n",
       "      <td>1906-06-02 19:00:00</td>\n",
       "      <td>2016-01-01 01:35:06</td>\n",
       "      <td>2016.000000</td>\n",
       "      <td>-99.342765</td>\n",
       "      <td>9.486549</td>\n",
       "    </tr>\n",
       "    <tr>\n",
       "      <th>25%</th>\n",
       "      <td>202177.500000</td>\n",
       "      <td>2016.000000</td>\n",
       "      <td>2016-11-28 10:30:00</td>\n",
       "      <td>2017-01-09 17:54:14</td>\n",
       "      <td>2017.000000</td>\n",
       "      <td>-99.174906</td>\n",
       "      <td>19.342264</td>\n",
       "    </tr>\n",
       "    <tr>\n",
       "      <th>50%</th>\n",
       "      <td>404476.000000</td>\n",
       "      <td>2017.000000</td>\n",
       "      <td>2017-10-27 11:30:00</td>\n",
       "      <td>2017-11-27 12:11:57</td>\n",
       "      <td>2017.000000</td>\n",
       "      <td>-99.142680</td>\n",
       "      <td>19.391685</td>\n",
       "    </tr>\n",
       "    <tr>\n",
       "      <th>75%</th>\n",
       "      <td>606686.500000</td>\n",
       "      <td>2018.000000</td>\n",
       "      <td>2018-08-25 13:00:00</td>\n",
       "      <td>2018-09-19 16:27:08.500000</td>\n",
       "      <td>2018.000000</td>\n",
       "      <td>-99.101421</td>\n",
       "      <td>19.437588</td>\n",
       "    </tr>\n",
       "    <tr>\n",
       "      <th>max</th>\n",
       "      <td>808870.000000</td>\n",
       "      <td>2019.000000</td>\n",
       "      <td>2019-06-30 23:00:00</td>\n",
       "      <td>2019-06-30 23:56:29</td>\n",
       "      <td>2019.000000</td>\n",
       "      <td>-98.946873</td>\n",
       "      <td>19.582490</td>\n",
       "    </tr>\n",
       "    <tr>\n",
       "      <th>std</th>\n",
       "      <td>233527.398708</td>\n",
       "      <td>1.412214</td>\n",
       "      <td>NaN</td>\n",
       "      <td>NaN</td>\n",
       "      <td>1.020460</td>\n",
       "      <td>0.058753</td>\n",
       "      <td>0.069692</td>\n",
       "    </tr>\n",
       "  </tbody>\n",
       "</table>\n",
       "</div>"
      ],
      "text/plain": [
       "                  id      ao_hechos                   fecha_hechos  \\\n",
       "count  800207.000000  800021.000000                         800021   \n",
       "mean   404440.724969    2017.233964  2017-09-15 06:18:33.451072768   \n",
       "min         0.000000    1906.000000            1906-06-02 19:00:00   \n",
       "25%    202177.500000    2016.000000            2016-11-28 10:30:00   \n",
       "50%    404476.000000    2017.000000            2017-10-27 11:30:00   \n",
       "75%    606686.500000    2018.000000            2018-08-25 13:00:00   \n",
       "max    808870.000000    2019.000000            2019-06-30 23:00:00   \n",
       "std    233527.398708       1.412214                            NaN   \n",
       "\n",
       "                        fecha_inicio      ao_inicio       longitud  \\\n",
       "count                         800207  800207.000000  777531.000000   \n",
       "mean   2017-11-08 17:23:31.065400576    2017.385711     -99.137482   \n",
       "min              2016-01-01 01:35:06    2016.000000     -99.342765   \n",
       "25%              2017-01-09 17:54:14    2017.000000     -99.174906   \n",
       "50%              2017-11-27 12:11:57    2017.000000     -99.142680   \n",
       "75%       2018-09-19 16:27:08.500000    2018.000000     -99.101421   \n",
       "max              2019-06-30 23:56:29    2019.000000     -98.946873   \n",
       "std                              NaN       1.020460       0.058753   \n",
       "\n",
       "             latitud  \n",
       "count  777531.000000  \n",
       "mean       19.388497  \n",
       "min         9.486549  \n",
       "25%        19.342264  \n",
       "50%        19.391685  \n",
       "75%        19.437588  \n",
       "max        19.582490  \n",
       "std         0.069692  "
      ]
     },
     "execution_count": 91,
     "metadata": {},
     "output_type": "execute_result"
    }
   ],
   "source": [
    "# Summarise the data, including dates\n",
    "df.describe(datetime_is_numeric=True)"
   ]
  },
  {
   "cell_type": "code",
   "execution_count": null,
   "metadata": {},
   "outputs": [],
   "source": []
  },
  {
   "cell_type": "code",
   "execution_count": 95,
   "metadata": {},
   "outputs": [],
   "source": [
    "#arreglamos estas variables porque no estan completas\n",
    "#mask es un estilo de if\n",
    "\n",
    "df['fecha_hechos']=df['fecha_hechos'].mask((df['fecha_hechos'].dt.year<2016) | (df['fecha_hechos'].isna()), df['fecha_inicio'])\n",
    "\n",
    "df['ao_hechos']=df['ao_hechos'].mask((df['ao_hechos']<2016) | (df['ao_hechos'].isna()), df['ao_inicio'])\n",
    "\n",
    "df['mes_hechos']=df['mes_hechos'].mask((df['mes_hechos'].isna()), df['mes_inicio'])"
   ]
  },
  {
   "cell_type": "code",
   "execution_count": 96,
   "metadata": {},
   "outputs": [
    {
     "name": "stdout",
     "output_type": "stream",
     "text": [
      "There are 800207 crimes, from 2016-01-01 to from 2019-06-30\n"
     ]
    }
   ],
   "source": [
    "# How many crimes are recorded in this dataset? In which period?\n",
    "print(f\"There are {len(df)} crimes, from {df['fecha_inicio'].dt.date.min()} to from {df['fecha_inicio'].dt.date.max()}\")"
   ]
  },
  {
   "cell_type": "code",
   "execution_count": 71,
   "metadata": {},
   "outputs": [
    {
     "data": {
      "text/plain": [
       "2018    252510\n",
       "2017    225854\n",
       "2016    195849\n",
       "2019    125994\n",
       "Name: ao_inicio, dtype: int64"
      ]
     },
     "execution_count": 71,
     "metadata": {},
     "output_type": "execute_result"
    }
   ],
   "source": [
    "# How many crimes were recorded by year?\n",
    "fecha_datos=df['ao_inicio'].value_counts()\n",
    "fecha_datos"
   ]
  },
  {
   "cell_type": "code",
   "execution_count": 101,
   "metadata": {},
   "outputs": [],
   "source": [
    "df = df.set_index(df[\"fecha_hechos\"])\n"
   ]
  },
  {
   "cell_type": "code",
   "execution_count": 107,
   "metadata": {},
   "outputs": [
    {
     "ename": "AttributeError",
     "evalue": "'Rectangle' object has no property 'tittle'",
     "output_type": "error",
     "traceback": [
      "\u001b[1;31m---------------------------------------------------------------------------\u001b[0m",
      "\u001b[1;31mAttributeError\u001b[0m                            Traceback (most recent call last)",
      "\u001b[1;32m<ipython-input-107-1f41930d20f3>\u001b[0m in \u001b[0;36m<module>\u001b[1;34m\u001b[0m\n\u001b[1;32m----> 1\u001b[1;33m \u001b[0mdf\u001b[0m\u001b[1;33m.\u001b[0m\u001b[0mgroupby\u001b[0m\u001b[1;33m(\u001b[0m\u001b[0mdf\u001b[0m\u001b[1;33m.\u001b[0m\u001b[0mindex\u001b[0m\u001b[1;33m.\u001b[0m\u001b[0myear\u001b[0m\u001b[1;33m)\u001b[0m\u001b[1;33m.\u001b[0m\u001b[0msize\u001b[0m\u001b[1;33m(\u001b[0m\u001b[1;33m)\u001b[0m\u001b[1;33m.\u001b[0m\u001b[0mreset_index\u001b[0m\u001b[1;33m(\u001b[0m\u001b[0mname\u001b[0m\u001b[1;33m=\u001b[0m\u001b[1;34m\"abs\"\u001b[0m\u001b[1;33m)\u001b[0m\u001b[1;33m.\u001b[0m\u001b[0mplot\u001b[0m\u001b[1;33m.\u001b[0m\u001b[0mbar\u001b[0m\u001b[1;33m(\u001b[0m\u001b[0mx\u001b[0m\u001b[1;33m=\u001b[0m\u001b[1;34m\"fecha_hechos\"\u001b[0m\u001b[1;33m,\u001b[0m\u001b[0my\u001b[0m\u001b[1;33m=\u001b[0m\u001b[1;34m\"abs\"\u001b[0m\u001b[1;33m,\u001b[0m \u001b[0mtittle\u001b[0m\u001b[1;33m=\u001b[0m\u001b[1;34m\"crimenes\"\u001b[0m\u001b[1;33m)\u001b[0m\u001b[1;33m\u001b[0m\u001b[1;33m\u001b[0m\u001b[0m\n\u001b[0m",
      "\u001b[1;32mc:\\Users\\cindy\\anaconda3\\lib\\site-packages\\pandas\\plotting\\_core.py\u001b[0m in \u001b[0;36mbar\u001b[1;34m(self, x, y, **kwargs)\u001b[0m\n\u001b[0;32m   1111\u001b[0m         \u001b[0mother\u001b[0m \u001b[0maxis\u001b[0m \u001b[0mrepresents\u001b[0m \u001b[0ma\u001b[0m \u001b[0mmeasured\u001b[0m \u001b[0mvalue\u001b[0m\u001b[1;33m.\u001b[0m\u001b[1;33m\u001b[0m\u001b[1;33m\u001b[0m\u001b[0m\n\u001b[0;32m   1112\u001b[0m         \"\"\"\n\u001b[1;32m-> 1113\u001b[1;33m         \u001b[1;32mreturn\u001b[0m \u001b[0mself\u001b[0m\u001b[1;33m(\u001b[0m\u001b[0mkind\u001b[0m\u001b[1;33m=\u001b[0m\u001b[1;34m\"bar\"\u001b[0m\u001b[1;33m,\u001b[0m \u001b[0mx\u001b[0m\u001b[1;33m=\u001b[0m\u001b[0mx\u001b[0m\u001b[1;33m,\u001b[0m \u001b[0my\u001b[0m\u001b[1;33m=\u001b[0m\u001b[0my\u001b[0m\u001b[1;33m,\u001b[0m \u001b[1;33m**\u001b[0m\u001b[0mkwargs\u001b[0m\u001b[1;33m)\u001b[0m\u001b[1;33m\u001b[0m\u001b[1;33m\u001b[0m\u001b[0m\n\u001b[0m\u001b[0;32m   1114\u001b[0m \u001b[1;33m\u001b[0m\u001b[0m\n\u001b[0;32m   1115\u001b[0m     @Appender(\n",
      "\u001b[1;32mc:\\Users\\cindy\\anaconda3\\lib\\site-packages\\pandas\\plotting\\_core.py\u001b[0m in \u001b[0;36m__call__\u001b[1;34m(self, *args, **kwargs)\u001b[0m\n\u001b[0;32m    953\u001b[0m                     \u001b[0mdata\u001b[0m\u001b[1;33m.\u001b[0m\u001b[0mcolumns\u001b[0m \u001b[1;33m=\u001b[0m \u001b[0mlabel_name\u001b[0m\u001b[1;33m\u001b[0m\u001b[1;33m\u001b[0m\u001b[0m\n\u001b[0;32m    954\u001b[0m \u001b[1;33m\u001b[0m\u001b[0m\n\u001b[1;32m--> 955\u001b[1;33m         \u001b[1;32mreturn\u001b[0m \u001b[0mplot_backend\u001b[0m\u001b[1;33m.\u001b[0m\u001b[0mplot\u001b[0m\u001b[1;33m(\u001b[0m\u001b[0mdata\u001b[0m\u001b[1;33m,\u001b[0m \u001b[0mkind\u001b[0m\u001b[1;33m=\u001b[0m\u001b[0mkind\u001b[0m\u001b[1;33m,\u001b[0m \u001b[1;33m**\u001b[0m\u001b[0mkwargs\u001b[0m\u001b[1;33m)\u001b[0m\u001b[1;33m\u001b[0m\u001b[1;33m\u001b[0m\u001b[0m\n\u001b[0m\u001b[0;32m    956\u001b[0m \u001b[1;33m\u001b[0m\u001b[0m\n\u001b[0;32m    957\u001b[0m     \u001b[0m__call__\u001b[0m\u001b[1;33m.\u001b[0m\u001b[0m__doc__\u001b[0m \u001b[1;33m=\u001b[0m \u001b[0m__doc__\u001b[0m\u001b[1;33m\u001b[0m\u001b[1;33m\u001b[0m\u001b[0m\n",
      "\u001b[1;32mc:\\Users\\cindy\\anaconda3\\lib\\site-packages\\pandas\\plotting\\_matplotlib\\__init__.py\u001b[0m in \u001b[0;36mplot\u001b[1;34m(data, kind, **kwargs)\u001b[0m\n\u001b[0;32m     59\u001b[0m             \u001b[0mkwargs\u001b[0m\u001b[1;33m[\u001b[0m\u001b[1;34m\"ax\"\u001b[0m\u001b[1;33m]\u001b[0m \u001b[1;33m=\u001b[0m \u001b[0mgetattr\u001b[0m\u001b[1;33m(\u001b[0m\u001b[0max\u001b[0m\u001b[1;33m,\u001b[0m \u001b[1;34m\"left_ax\"\u001b[0m\u001b[1;33m,\u001b[0m \u001b[0max\u001b[0m\u001b[1;33m)\u001b[0m\u001b[1;33m\u001b[0m\u001b[1;33m\u001b[0m\u001b[0m\n\u001b[0;32m     60\u001b[0m     \u001b[0mplot_obj\u001b[0m \u001b[1;33m=\u001b[0m \u001b[0mPLOT_CLASSES\u001b[0m\u001b[1;33m[\u001b[0m\u001b[0mkind\u001b[0m\u001b[1;33m]\u001b[0m\u001b[1;33m(\u001b[0m\u001b[0mdata\u001b[0m\u001b[1;33m,\u001b[0m \u001b[1;33m**\u001b[0m\u001b[0mkwargs\u001b[0m\u001b[1;33m)\u001b[0m\u001b[1;33m\u001b[0m\u001b[1;33m\u001b[0m\u001b[0m\n\u001b[1;32m---> 61\u001b[1;33m     \u001b[0mplot_obj\u001b[0m\u001b[1;33m.\u001b[0m\u001b[0mgenerate\u001b[0m\u001b[1;33m(\u001b[0m\u001b[1;33m)\u001b[0m\u001b[1;33m\u001b[0m\u001b[1;33m\u001b[0m\u001b[0m\n\u001b[0m\u001b[0;32m     62\u001b[0m     \u001b[0mplot_obj\u001b[0m\u001b[1;33m.\u001b[0m\u001b[0mdraw\u001b[0m\u001b[1;33m(\u001b[0m\u001b[1;33m)\u001b[0m\u001b[1;33m\u001b[0m\u001b[1;33m\u001b[0m\u001b[0m\n\u001b[0;32m     63\u001b[0m     \u001b[1;32mreturn\u001b[0m \u001b[0mplot_obj\u001b[0m\u001b[1;33m.\u001b[0m\u001b[0mresult\u001b[0m\u001b[1;33m\u001b[0m\u001b[1;33m\u001b[0m\u001b[0m\n",
      "\u001b[1;32mc:\\Users\\cindy\\anaconda3\\lib\\site-packages\\pandas\\plotting\\_matplotlib\\core.py\u001b[0m in \u001b[0;36mgenerate\u001b[1;34m(self)\u001b[0m\n\u001b[0;32m    278\u001b[0m         \u001b[0mself\u001b[0m\u001b[1;33m.\u001b[0m\u001b[0m_compute_plot_data\u001b[0m\u001b[1;33m(\u001b[0m\u001b[1;33m)\u001b[0m\u001b[1;33m\u001b[0m\u001b[1;33m\u001b[0m\u001b[0m\n\u001b[0;32m    279\u001b[0m         \u001b[0mself\u001b[0m\u001b[1;33m.\u001b[0m\u001b[0m_setup_subplots\u001b[0m\u001b[1;33m(\u001b[0m\u001b[1;33m)\u001b[0m\u001b[1;33m\u001b[0m\u001b[1;33m\u001b[0m\u001b[0m\n\u001b[1;32m--> 280\u001b[1;33m         \u001b[0mself\u001b[0m\u001b[1;33m.\u001b[0m\u001b[0m_make_plot\u001b[0m\u001b[1;33m(\u001b[0m\u001b[1;33m)\u001b[0m\u001b[1;33m\u001b[0m\u001b[1;33m\u001b[0m\u001b[0m\n\u001b[0m\u001b[0;32m    281\u001b[0m         \u001b[0mself\u001b[0m\u001b[1;33m.\u001b[0m\u001b[0m_add_table\u001b[0m\u001b[1;33m(\u001b[0m\u001b[1;33m)\u001b[0m\u001b[1;33m\u001b[0m\u001b[1;33m\u001b[0m\u001b[0m\n\u001b[0;32m    282\u001b[0m         \u001b[0mself\u001b[0m\u001b[1;33m.\u001b[0m\u001b[0m_make_legend\u001b[0m\u001b[1;33m(\u001b[0m\u001b[1;33m)\u001b[0m\u001b[1;33m\u001b[0m\u001b[1;33m\u001b[0m\u001b[0m\n",
      "\u001b[1;32mc:\\Users\\cindy\\anaconda3\\lib\\site-packages\\pandas\\plotting\\_matplotlib\\core.py\u001b[0m in \u001b[0;36m_make_plot\u001b[1;34m(self)\u001b[0m\n\u001b[0;32m   1473\u001b[0m             \u001b[1;32melse\u001b[0m\u001b[1;33m:\u001b[0m\u001b[1;33m\u001b[0m\u001b[1;33m\u001b[0m\u001b[0m\n\u001b[0;32m   1474\u001b[0m                 \u001b[0mw\u001b[0m \u001b[1;33m=\u001b[0m \u001b[0mself\u001b[0m\u001b[1;33m.\u001b[0m\u001b[0mbar_width\u001b[0m \u001b[1;33m/\u001b[0m \u001b[0mK\u001b[0m\u001b[1;33m\u001b[0m\u001b[1;33m\u001b[0m\u001b[0m\n\u001b[1;32m-> 1475\u001b[1;33m                 rect = self._plot(\n\u001b[0m\u001b[0;32m   1476\u001b[0m                     \u001b[0max\u001b[0m\u001b[1;33m,\u001b[0m\u001b[1;33m\u001b[0m\u001b[1;33m\u001b[0m\u001b[0m\n\u001b[0;32m   1477\u001b[0m                     \u001b[0mself\u001b[0m\u001b[1;33m.\u001b[0m\u001b[0max_pos\u001b[0m \u001b[1;33m+\u001b[0m \u001b[1;33m(\u001b[0m\u001b[0mi\u001b[0m \u001b[1;33m+\u001b[0m \u001b[1;36m0.5\u001b[0m\u001b[1;33m)\u001b[0m \u001b[1;33m*\u001b[0m \u001b[0mw\u001b[0m\u001b[1;33m,\u001b[0m\u001b[1;33m\u001b[0m\u001b[1;33m\u001b[0m\u001b[0m\n",
      "\u001b[1;32mc:\\Users\\cindy\\anaconda3\\lib\\site-packages\\pandas\\plotting\\_matplotlib\\core.py\u001b[0m in \u001b[0;36m_plot\u001b[1;34m(cls, ax, x, y, w, start, log, **kwds)\u001b[0m\n\u001b[0;32m   1404\u001b[0m     \u001b[1;33m@\u001b[0m\u001b[0mclassmethod\u001b[0m\u001b[1;33m\u001b[0m\u001b[1;33m\u001b[0m\u001b[0m\n\u001b[0;32m   1405\u001b[0m     \u001b[1;32mdef\u001b[0m \u001b[0m_plot\u001b[0m\u001b[1;33m(\u001b[0m\u001b[0mcls\u001b[0m\u001b[1;33m,\u001b[0m \u001b[0max\u001b[0m\u001b[1;33m:\u001b[0m \u001b[1;34m\"Axes\"\u001b[0m\u001b[1;33m,\u001b[0m \u001b[0mx\u001b[0m\u001b[1;33m,\u001b[0m \u001b[0my\u001b[0m\u001b[1;33m,\u001b[0m \u001b[0mw\u001b[0m\u001b[1;33m,\u001b[0m \u001b[0mstart\u001b[0m\u001b[1;33m=\u001b[0m\u001b[1;36m0\u001b[0m\u001b[1;33m,\u001b[0m \u001b[0mlog\u001b[0m\u001b[1;33m=\u001b[0m\u001b[1;32mFalse\u001b[0m\u001b[1;33m,\u001b[0m \u001b[1;33m**\u001b[0m\u001b[0mkwds\u001b[0m\u001b[1;33m)\u001b[0m\u001b[1;33m:\u001b[0m\u001b[1;33m\u001b[0m\u001b[1;33m\u001b[0m\u001b[0m\n\u001b[1;32m-> 1406\u001b[1;33m         \u001b[1;32mreturn\u001b[0m \u001b[0max\u001b[0m\u001b[1;33m.\u001b[0m\u001b[0mbar\u001b[0m\u001b[1;33m(\u001b[0m\u001b[0mx\u001b[0m\u001b[1;33m,\u001b[0m \u001b[0my\u001b[0m\u001b[1;33m,\u001b[0m \u001b[0mw\u001b[0m\u001b[1;33m,\u001b[0m \u001b[0mbottom\u001b[0m\u001b[1;33m=\u001b[0m\u001b[0mstart\u001b[0m\u001b[1;33m,\u001b[0m \u001b[0mlog\u001b[0m\u001b[1;33m=\u001b[0m\u001b[0mlog\u001b[0m\u001b[1;33m,\u001b[0m \u001b[1;33m**\u001b[0m\u001b[0mkwds\u001b[0m\u001b[1;33m)\u001b[0m\u001b[1;33m\u001b[0m\u001b[1;33m\u001b[0m\u001b[0m\n\u001b[0m\u001b[0;32m   1407\u001b[0m \u001b[1;33m\u001b[0m\u001b[0m\n\u001b[0;32m   1408\u001b[0m     \u001b[1;33m@\u001b[0m\u001b[0mproperty\u001b[0m\u001b[1;33m\u001b[0m\u001b[1;33m\u001b[0m\u001b[0m\n",
      "\u001b[1;32mc:\\Users\\cindy\\anaconda3\\lib\\site-packages\\matplotlib\\__init__.py\u001b[0m in \u001b[0;36minner\u001b[1;34m(ax, data, *args, **kwargs)\u001b[0m\n\u001b[0;32m   1445\u001b[0m     \u001b[1;32mdef\u001b[0m \u001b[0minner\u001b[0m\u001b[1;33m(\u001b[0m\u001b[0max\u001b[0m\u001b[1;33m,\u001b[0m \u001b[1;33m*\u001b[0m\u001b[0margs\u001b[0m\u001b[1;33m,\u001b[0m \u001b[0mdata\u001b[0m\u001b[1;33m=\u001b[0m\u001b[1;32mNone\u001b[0m\u001b[1;33m,\u001b[0m \u001b[1;33m**\u001b[0m\u001b[0mkwargs\u001b[0m\u001b[1;33m)\u001b[0m\u001b[1;33m:\u001b[0m\u001b[1;33m\u001b[0m\u001b[1;33m\u001b[0m\u001b[0m\n\u001b[0;32m   1446\u001b[0m         \u001b[1;32mif\u001b[0m \u001b[0mdata\u001b[0m \u001b[1;32mis\u001b[0m \u001b[1;32mNone\u001b[0m\u001b[1;33m:\u001b[0m\u001b[1;33m\u001b[0m\u001b[1;33m\u001b[0m\u001b[0m\n\u001b[1;32m-> 1447\u001b[1;33m             \u001b[1;32mreturn\u001b[0m \u001b[0mfunc\u001b[0m\u001b[1;33m(\u001b[0m\u001b[0max\u001b[0m\u001b[1;33m,\u001b[0m \u001b[1;33m*\u001b[0m\u001b[0mmap\u001b[0m\u001b[1;33m(\u001b[0m\u001b[0msanitize_sequence\u001b[0m\u001b[1;33m,\u001b[0m \u001b[0margs\u001b[0m\u001b[1;33m)\u001b[0m\u001b[1;33m,\u001b[0m \u001b[1;33m**\u001b[0m\u001b[0mkwargs\u001b[0m\u001b[1;33m)\u001b[0m\u001b[1;33m\u001b[0m\u001b[1;33m\u001b[0m\u001b[0m\n\u001b[0m\u001b[0;32m   1448\u001b[0m \u001b[1;33m\u001b[0m\u001b[0m\n\u001b[0;32m   1449\u001b[0m         \u001b[0mbound\u001b[0m \u001b[1;33m=\u001b[0m \u001b[0mnew_sig\u001b[0m\u001b[1;33m.\u001b[0m\u001b[0mbind\u001b[0m\u001b[1;33m(\u001b[0m\u001b[0max\u001b[0m\u001b[1;33m,\u001b[0m \u001b[1;33m*\u001b[0m\u001b[0margs\u001b[0m\u001b[1;33m,\u001b[0m \u001b[1;33m**\u001b[0m\u001b[0mkwargs\u001b[0m\u001b[1;33m)\u001b[0m\u001b[1;33m\u001b[0m\u001b[1;33m\u001b[0m\u001b[0m\n",
      "\u001b[1;32mc:\\Users\\cindy\\anaconda3\\lib\\site-packages\\matplotlib\\axes\\_axes.py\u001b[0m in \u001b[0;36mbar\u001b[1;34m(self, x, height, width, bottom, align, **kwargs)\u001b[0m\n\u001b[0;32m   2486\u001b[0m                 \u001b[0mlabel\u001b[0m\u001b[1;33m=\u001b[0m\u001b[1;34m'_nolegend_'\u001b[0m\u001b[1;33m,\u001b[0m\u001b[1;33m\u001b[0m\u001b[1;33m\u001b[0m\u001b[0m\n\u001b[0;32m   2487\u001b[0m                 )\n\u001b[1;32m-> 2488\u001b[1;33m             \u001b[0mr\u001b[0m\u001b[1;33m.\u001b[0m\u001b[0mupdate\u001b[0m\u001b[1;33m(\u001b[0m\u001b[0mkwargs\u001b[0m\u001b[1;33m)\u001b[0m\u001b[1;33m\u001b[0m\u001b[1;33m\u001b[0m\u001b[0m\n\u001b[0m\u001b[0;32m   2489\u001b[0m             \u001b[0mr\u001b[0m\u001b[1;33m.\u001b[0m\u001b[0mget_path\u001b[0m\u001b[1;33m(\u001b[0m\u001b[1;33m)\u001b[0m\u001b[1;33m.\u001b[0m\u001b[0m_interpolation_steps\u001b[0m \u001b[1;33m=\u001b[0m \u001b[1;36m100\u001b[0m\u001b[1;33m\u001b[0m\u001b[1;33m\u001b[0m\u001b[0m\n\u001b[0;32m   2490\u001b[0m             \u001b[1;32mif\u001b[0m \u001b[0morientation\u001b[0m \u001b[1;33m==\u001b[0m \u001b[1;34m'vertical'\u001b[0m\u001b[1;33m:\u001b[0m\u001b[1;33m\u001b[0m\u001b[1;33m\u001b[0m\u001b[0m\n",
      "\u001b[1;32mc:\\Users\\cindy\\anaconda3\\lib\\site-packages\\matplotlib\\artist.py\u001b[0m in \u001b[0;36mupdate\u001b[1;34m(self, props)\u001b[0m\n\u001b[0;32m    994\u001b[0m                     \u001b[0mfunc\u001b[0m \u001b[1;33m=\u001b[0m \u001b[0mgetattr\u001b[0m\u001b[1;33m(\u001b[0m\u001b[0mself\u001b[0m\u001b[1;33m,\u001b[0m \u001b[1;34mf\"set_{k}\"\u001b[0m\u001b[1;33m,\u001b[0m \u001b[1;32mNone\u001b[0m\u001b[1;33m)\u001b[0m\u001b[1;33m\u001b[0m\u001b[1;33m\u001b[0m\u001b[0m\n\u001b[0;32m    995\u001b[0m                     \u001b[1;32mif\u001b[0m \u001b[1;32mnot\u001b[0m \u001b[0mcallable\u001b[0m\u001b[1;33m(\u001b[0m\u001b[0mfunc\u001b[0m\u001b[1;33m)\u001b[0m\u001b[1;33m:\u001b[0m\u001b[1;33m\u001b[0m\u001b[1;33m\u001b[0m\u001b[0m\n\u001b[1;32m--> 996\u001b[1;33m                         raise AttributeError(f\"{type(self).__name__!r} object \"\n\u001b[0m\u001b[0;32m    997\u001b[0m                                              f\"has no property {k!r}\")\n\u001b[0;32m    998\u001b[0m                     \u001b[0mret\u001b[0m\u001b[1;33m.\u001b[0m\u001b[0mappend\u001b[0m\u001b[1;33m(\u001b[0m\u001b[0mfunc\u001b[0m\u001b[1;33m(\u001b[0m\u001b[0mv\u001b[0m\u001b[1;33m)\u001b[0m\u001b[1;33m)\u001b[0m\u001b[1;33m\u001b[0m\u001b[1;33m\u001b[0m\u001b[0m\n",
      "\u001b[1;31mAttributeError\u001b[0m: 'Rectangle' object has no property 'tittle'"
     ]
    },
    {
     "data": {
      "image/png": "[encoded data removed]",
      "text/plain": [
       "<Figure size 432x288 with 1 Axes>"
      ]
     },
     "metadata": {
      "needs_background": "light"
     },
     "output_type": "display_data"
    }
   ],
   "source": [
    "df.groupby(df.index.year).size().reset_index(name=\"abs\").plot.bar(x=\"fecha_hechos\",y=\"abs\", tittle=\"crimenes\")"
   ]
  },
  {
   "cell_type": "code",
   "execution_count": 72,
   "metadata": {},
   "outputs": [
    {
     "data": {
      "text/plain": [
       "<AxesSubplot:>"
      ]
     },
     "execution_count": 72,
     "metadata": {},
     "output_type": "execute_result"
    },
    {
     "data": {
      "image/png": "[encoded data removed]",
      "text/plain": [
       "<Figure size 432x288 with 1 Axes>"
      ]
     },
     "metadata": {
      "needs_background": "light"
     },
     "output_type": "display_data"
    }
   ],
   "source": [
    "# Show the top 5 crimes\n",
    "df['ao_inicio'].value_counts().plot(kind='bar')"
   ]
  },
  {
   "cell_type": "code",
   "execution_count": 73,
   "metadata": {},
   "outputs": [],
   "source": [
    "df.set_index('fecha_inicio',inplace=True)\n"
   ]
  },
  {
   "cell_type": "code",
   "execution_count": 74,
   "metadata": {},
   "outputs": [
    {
     "data": {
      "text/html": [
       "<div>\n",
       "<style scoped>\n",
       "    .dataframe tbody tr th:only-of-type {\n",
       "        vertical-align: middle;\n",
       "    }\n",
       "\n",
       "    .dataframe tbody tr th {\n",
       "        vertical-align: top;\n",
       "    }\n",
       "\n",
       "    .dataframe thead th {\n",
       "        text-align: right;\n",
       "    }\n",
       "</style>\n",
       "<table border=\"1\" class=\"dataframe\">\n",
       "  <thead>\n",
       "    <tr style=\"text-align: right;\">\n",
       "      <th></th>\n",
       "      <th>fecha_inicio</th>\n",
       "      <th>obs</th>\n",
       "    </tr>\n",
       "  </thead>\n",
       "  <tbody>\n",
       "    <tr>\n",
       "      <th>0</th>\n",
       "      <td>2016</td>\n",
       "      <td>195849</td>\n",
       "    </tr>\n",
       "    <tr>\n",
       "      <th>1</th>\n",
       "      <td>2017</td>\n",
       "      <td>225854</td>\n",
       "    </tr>\n",
       "    <tr>\n",
       "      <th>2</th>\n",
       "      <td>2018</td>\n",
       "      <td>252510</td>\n",
       "    </tr>\n",
       "    <tr>\n",
       "      <th>3</th>\n",
       "      <td>2019</td>\n",
       "      <td>125994</td>\n",
       "    </tr>\n",
       "  </tbody>\n",
       "</table>\n",
       "</div>"
      ],
      "text/plain": [
       "   fecha_inicio     obs\n",
       "0          2016  195849\n",
       "1          2017  225854\n",
       "2          2018  252510\n",
       "3          2019  125994"
      ]
     },
     "execution_count": 74,
     "metadata": {},
     "output_type": "execute_result"
    }
   ],
   "source": [
    "df_count=df.groupby(df.index.year).size().reset_index(name='obs')\n",
    "df_count"
   ]
  },
  {
   "cell_type": "code",
   "execution_count": 75,
   "metadata": {},
   "outputs": [
    {
     "data": {
      "text/plain": [
       "<AxesSubplot:title={'center':'Crimenes por anio'}, xlabel='fecha_inicio'>"
      ]
     },
     "execution_count": 75,
     "metadata": {},
     "output_type": "execute_result"
    },
    {
     "data": {
      "image/png": "[encoded data removed]",
      "text/plain": [
       "<Figure size 432x288 with 1 Axes>"
      ]
     },
     "metadata": {
      "needs_background": "light"
     },
     "output_type": "display_data"
    }
   ],
   "source": [
    "df_count.plot.bar(title='Crimenes por anio', x='fecha_inicio', y='obs')"
   ]
  },
  {
   "cell_type": "code",
   "execution_count": 108,
   "metadata": {},
   "outputs": [
    {
     "data": {
      "text/plain": [
       "delito\n",
       "ABANDONO DE PERSONA                               2806\n",
       "ABORTO                                             382\n",
       "ABUSO DE AUTORIDAD                                5324\n",
       "ABUSO DE CONFIANZA                               12910\n",
       "ABUSO SEXUAL                                      8017\n",
       "                                                 ...  \n",
       "VIOLACION EQUIPARADA Y ROBO DE VEHICULO              3\n",
       "VIOLACION TUMULTUARIA                               71\n",
       "VIOLACION TUMULTUARIA EQUIPARADA POR CONOCIDO        2\n",
       "VIOLACION Y ROBO DE VEHICULO                         1\n",
       "VIOLENCIA FAMILIAR                               69007\n",
       "Length: 273, dtype: int64"
      ]
     },
     "execution_count": 108,
     "metadata": {},
     "output_type": "execute_result"
    }
   ],
   "source": [
    "# Calculate the accumulated rate of the top 5 crimes\n",
    "df.groupby('delito').size()"
   ]
  },
  {
   "cell_type": "code",
   "execution_count": 109,
   "metadata": {},
   "outputs": [
    {
     "data": {
      "text/html": [
       "<div>\n",
       "<style scoped>\n",
       "    .dataframe tbody tr th:only-of-type {\n",
       "        vertical-align: middle;\n",
       "    }\n",
       "\n",
       "    .dataframe tbody tr th {\n",
       "        vertical-align: top;\n",
       "    }\n",
       "\n",
       "    .dataframe thead th {\n",
       "        text-align: right;\n",
       "    }\n",
       "</style>\n",
       "<table border=\"1\" class=\"dataframe\">\n",
       "  <thead>\n",
       "    <tr style=\"text-align: right;\">\n",
       "      <th></th>\n",
       "      <th>delito</th>\n",
       "      <th>Crimes</th>\n",
       "    </tr>\n",
       "  </thead>\n",
       "  <tbody>\n",
       "    <tr>\n",
       "      <th>272</th>\n",
       "      <td>VIOLENCIA FAMILIAR</td>\n",
       "      <td>69007</td>\n",
       "    </tr>\n",
       "    <tr>\n",
       "      <th>222</th>\n",
       "      <td>ROBO DE OBJETOS</td>\n",
       "      <td>51870</td>\n",
       "    </tr>\n",
       "    <tr>\n",
       "      <th>158</th>\n",
       "      <td>ROBO A NEGOCIO SIN VIOLENCIA</td>\n",
       "      <td>51396</td>\n",
       "    </tr>\n",
       "    <tr>\n",
       "      <th>75</th>\n",
       "      <td>FRAUDE</td>\n",
       "      <td>44826</td>\n",
       "    </tr>\n",
       "    <tr>\n",
       "      <th>51</th>\n",
       "      <td>DENUNCIA DE HECHOS</td>\n",
       "      <td>43613</td>\n",
       "    </tr>\n",
       "  </tbody>\n",
       "</table>\n",
       "</div>"
      ],
      "text/plain": [
       "                           delito  Crimes\n",
       "272            VIOLENCIA FAMILIAR   69007\n",
       "222               ROBO DE OBJETOS   51870\n",
       "158  ROBO A NEGOCIO SIN VIOLENCIA   51396\n",
       "75                         FRAUDE   44826\n",
       "51             DENUNCIA DE HECHOS   43613"
      ]
     },
     "execution_count": 109,
     "metadata": {},
     "output_type": "execute_result"
    }
   ],
   "source": [
    "df.groupby('delito').size().reset_index(name=\"Crimes\").sort_values(by=\"Crimes\", ascending=False).head(5)"
   ]
  },
  {
   "cell_type": "code",
   "execution_count": 110,
   "metadata": {},
   "outputs": [
    {
     "data": {
      "text/plain": [
       "VIOLENCIA FAMILIAR              69007\n",
       "ROBO DE OBJETOS                 51870\n",
       "ROBO A NEGOCIO SIN VIOLENCIA    51396\n",
       "FRAUDE                          44826\n",
       "DENUNCIA DE HECHOS              43613\n",
       "Name: delito, dtype: int64"
      ]
     },
     "execution_count": 110,
     "metadata": {},
     "output_type": "execute_result"
    }
   ],
   "source": [
    "df['delito'].value_counts().head(5)"
   ]
  },
  {
   "cell_type": "code",
   "execution_count": 118,
   "metadata": {},
   "outputs": [
    {
     "data": {
      "text/html": [
       "<div>\n",
       "<style scoped>\n",
       "    .dataframe tbody tr th:only-of-type {\n",
       "        vertical-align: middle;\n",
       "    }\n",
       "\n",
       "    .dataframe tbody tr th {\n",
       "        vertical-align: top;\n",
       "    }\n",
       "\n",
       "    .dataframe thead th {\n",
       "        text-align: right;\n",
       "    }\n",
       "</style>\n",
       "<table border=\"1\" class=\"dataframe\">\n",
       "  <thead>\n",
       "    <tr style=\"text-align: right;\">\n",
       "      <th></th>\n",
       "      <th>delito</th>\n",
       "      <th>Crimes</th>\n",
       "      <th>rate</th>\n",
       "      <th>accum</th>\n",
       "    </tr>\n",
       "  </thead>\n",
       "  <tbody>\n",
       "    <tr>\n",
       "      <th>272</th>\n",
       "      <td>VIOLENCIA FAMILIAR</td>\n",
       "      <td>69007</td>\n",
       "      <td>8.623644</td>\n",
       "      <td>8.623644</td>\n",
       "    </tr>\n",
       "    <tr>\n",
       "      <th>222</th>\n",
       "      <td>ROBO DE OBJETOS</td>\n",
       "      <td>51870</td>\n",
       "      <td>6.482073</td>\n",
       "      <td>15.105716</td>\n",
       "    </tr>\n",
       "    <tr>\n",
       "      <th>158</th>\n",
       "      <td>ROBO A NEGOCIO SIN VIOLENCIA</td>\n",
       "      <td>51396</td>\n",
       "      <td>6.422838</td>\n",
       "      <td>21.528554</td>\n",
       "    </tr>\n",
       "    <tr>\n",
       "      <th>75</th>\n",
       "      <td>FRAUDE</td>\n",
       "      <td>44826</td>\n",
       "      <td>5.601801</td>\n",
       "      <td>27.130355</td>\n",
       "    </tr>\n",
       "    <tr>\n",
       "      <th>51</th>\n",
       "      <td>DENUNCIA DE HECHOS</td>\n",
       "      <td>43613</td>\n",
       "      <td>5.450215</td>\n",
       "      <td>32.580570</td>\n",
       "    </tr>\n",
       "  </tbody>\n",
       "</table>\n",
       "</div>"
      ],
      "text/plain": [
       "                           delito  Crimes      rate      accum\n",
       "272            VIOLENCIA FAMILIAR   69007  8.623644   8.623644\n",
       "222               ROBO DE OBJETOS   51870  6.482073  15.105716\n",
       "158  ROBO A NEGOCIO SIN VIOLENCIA   51396  6.422838  21.528554\n",
       "75                         FRAUDE   44826  5.601801  27.130355\n",
       "51             DENUNCIA DE HECHOS   43613  5.450215  32.580570"
      ]
     },
     "execution_count": 118,
     "metadata": {},
     "output_type": "execute_result"
    }
   ],
   "source": [
    "df.groupby('delito').size().reset_index(name=\"Crimes\").sort_values(by=\"Crimes\", ascending=False).assign(rate=lambda x: x['Crimes']/sum(x['Crimes'])*100, accum= lambda x: x['rate'].cumsum()).head(5)"
   ]
  },
  {
   "cell_type": "code",
   "execution_count": 116,
   "metadata": {},
   "outputs": [
    {
     "data": {
      "text/html": [
       "<div>\n",
       "<style scoped>\n",
       "    .dataframe tbody tr th:only-of-type {\n",
       "        vertical-align: middle;\n",
       "    }\n",
       "\n",
       "    .dataframe tbody tr th {\n",
       "        vertical-align: top;\n",
       "    }\n",
       "\n",
       "    .dataframe thead th {\n",
       "        text-align: right;\n",
       "    }\n",
       "</style>\n",
       "<table border=\"1\" class=\"dataframe\">\n",
       "  <thead>\n",
       "    <tr style=\"text-align: right;\">\n",
       "      <th></th>\n",
       "      <th>delito</th>\n",
       "      <th>Crimes</th>\n",
       "      <th>rate</th>\n",
       "    </tr>\n",
       "  </thead>\n",
       "  <tbody>\n",
       "    <tr>\n",
       "      <th>272</th>\n",
       "      <td>VIOLENCIA FAMILIAR</td>\n",
       "      <td>69007</td>\n",
       "      <td>0.086236</td>\n",
       "    </tr>\n",
       "    <tr>\n",
       "      <th>222</th>\n",
       "      <td>ROBO DE OBJETOS</td>\n",
       "      <td>51870</td>\n",
       "      <td>0.064821</td>\n",
       "    </tr>\n",
       "    <tr>\n",
       "      <th>158</th>\n",
       "      <td>ROBO A NEGOCIO SIN VIOLENCIA</td>\n",
       "      <td>51396</td>\n",
       "      <td>0.064228</td>\n",
       "    </tr>\n",
       "    <tr>\n",
       "      <th>75</th>\n",
       "      <td>FRAUDE</td>\n",
       "      <td>44826</td>\n",
       "      <td>0.056018</td>\n",
       "    </tr>\n",
       "    <tr>\n",
       "      <th>51</th>\n",
       "      <td>DENUNCIA DE HECHOS</td>\n",
       "      <td>43613</td>\n",
       "      <td>0.054502</td>\n",
       "    </tr>\n",
       "  </tbody>\n",
       "</table>\n",
       "</div>"
      ],
      "text/plain": [
       "                           delito  Crimes      rate\n",
       "272            VIOLENCIA FAMILIAR   69007  0.086236\n",
       "222               ROBO DE OBJETOS   51870  0.064821\n",
       "158  ROBO A NEGOCIO SIN VIOLENCIA   51396  0.064228\n",
       "75                         FRAUDE   44826  0.056018\n",
       "51             DENUNCIA DE HECHOS   43613  0.054502"
      ]
     },
     "execution_count": 116,
     "metadata": {},
     "output_type": "execute_result"
    }
   ],
   "source": [
    "df.groupby('delito').size().reset_index(name=\"Crimes\").sort_values(by=\"Crimes\", ascending=False).assign(rate=lambda x: x['Crimes']/len(df)).head(5)"
   ]
  },
  {
   "cell_type": "code",
   "execution_count": 77,
   "metadata": {},
   "outputs": [],
   "source": [
    "# Which city has the most and the less crimes in the dataset?"
   ]
  },
  {
   "cell_type": "code",
   "execution_count": 121,
   "metadata": {},
   "outputs": [
    {
     "data": {
      "text/html": [
       "<div>\n",
       "<style scoped>\n",
       "    .dataframe tbody tr th:only-of-type {\n",
       "        vertical-align: middle;\n",
       "    }\n",
       "\n",
       "    .dataframe tbody tr th {\n",
       "        vertical-align: top;\n",
       "    }\n",
       "\n",
       "    .dataframe thead th {\n",
       "        text-align: right;\n",
       "    }\n",
       "</style>\n",
       "<table border=\"1\" class=\"dataframe\">\n",
       "  <thead>\n",
       "    <tr style=\"text-align: right;\">\n",
       "      <th></th>\n",
       "      <th>alcaldia_hechos</th>\n",
       "      <th>Crimes</th>\n",
       "    </tr>\n",
       "  </thead>\n",
       "  <tbody>\n",
       "    <tr>\n",
       "      <th>5</th>\n",
       "      <td>CUAUHTEMOC</td>\n",
       "      <td>131397</td>\n",
       "    </tr>\n",
       "    <tr>\n",
       "      <th>8</th>\n",
       "      <td>IZTAPALAPA</td>\n",
       "      <td>119926</td>\n",
       "    </tr>\n",
       "    <tr>\n",
       "      <th>6</th>\n",
       "      <td>GUSTAVO A MADERO</td>\n",
       "      <td>80097</td>\n",
       "    </tr>\n",
       "    <tr>\n",
       "      <th>2</th>\n",
       "      <td>BENITO JUAREZ</td>\n",
       "      <td>70599</td>\n",
       "    </tr>\n",
       "    <tr>\n",
       "      <th>3</th>\n",
       "      <td>COYOACAN</td>\n",
       "      <td>54235</td>\n",
       "    </tr>\n",
       "    <tr>\n",
       "      <th>10</th>\n",
       "      <td>MIGUEL HIDALGO</td>\n",
       "      <td>53688</td>\n",
       "    </tr>\n",
       "    <tr>\n",
       "      <th>0</th>\n",
       "      <td>ALVARO OBREGON</td>\n",
       "      <td>52568</td>\n",
       "    </tr>\n",
       "    <tr>\n",
       "      <th>14</th>\n",
       "      <td>VENUSTIANO CARRANZA</td>\n",
       "      <td>46224</td>\n",
       "    </tr>\n",
       "    <tr>\n",
       "      <th>13</th>\n",
       "      <td>TLALPAN</td>\n",
       "      <td>46179</td>\n",
       "    </tr>\n",
       "    <tr>\n",
       "      <th>1</th>\n",
       "      <td>AZCAPOTZALCO</td>\n",
       "      <td>39435</td>\n",
       "    </tr>\n",
       "    <tr>\n",
       "      <th>7</th>\n",
       "      <td>IZTACALCO</td>\n",
       "      <td>34407</td>\n",
       "    </tr>\n",
       "    <tr>\n",
       "      <th>15</th>\n",
       "      <td>XOCHIMILCO</td>\n",
       "      <td>24639</td>\n",
       "    </tr>\n",
       "    <tr>\n",
       "      <th>12</th>\n",
       "      <td>TLAHUAC</td>\n",
       "      <td>18197</td>\n",
       "    </tr>\n",
       "    <tr>\n",
       "      <th>9</th>\n",
       "      <td>LA MAGDALENA CONTRERAS</td>\n",
       "      <td>12064</td>\n",
       "    </tr>\n",
       "    <tr>\n",
       "      <th>4</th>\n",
       "      <td>CUAJIMALPA DE MORELOS</td>\n",
       "      <td>11393</td>\n",
       "    </tr>\n",
       "    <tr>\n",
       "      <th>11</th>\n",
       "      <td>MILPA ALTA</td>\n",
       "      <td>5159</td>\n",
       "    </tr>\n",
       "  </tbody>\n",
       "</table>\n",
       "</div>"
      ],
      "text/plain": [
       "           alcaldia_hechos  Crimes\n",
       "5               CUAUHTEMOC  131397\n",
       "8               IZTAPALAPA  119926\n",
       "6         GUSTAVO A MADERO   80097\n",
       "2            BENITO JUAREZ   70599\n",
       "3                 COYOACAN   54235\n",
       "10          MIGUEL HIDALGO   53688\n",
       "0           ALVARO OBREGON   52568\n",
       "14     VENUSTIANO CARRANZA   46224\n",
       "13                 TLALPAN   46179\n",
       "1             AZCAPOTZALCO   39435\n",
       "7                IZTACALCO   34407\n",
       "15              XOCHIMILCO   24639\n",
       "12                 TLAHUAC   18197\n",
       "9   LA MAGDALENA CONTRERAS   12064\n",
       "4    CUAJIMALPA DE MORELOS   11393\n",
       "11              MILPA ALTA    5159"
      ]
     },
     "execution_count": 121,
     "metadata": {},
     "output_type": "execute_result"
    }
   ],
   "source": [
    "df.groupby('alcaldia_hechos').size().reset_index(name=\"Crimes\").sort_values(by=\"Crimes\", ascending=False)"
   ]
  },
  {
   "cell_type": "code",
   "execution_count": 124,
   "metadata": {},
   "outputs": [
    {
     "data": {
      "text/html": [
       "<div>\n",
       "<style scoped>\n",
       "    .dataframe tbody tr th:only-of-type {\n",
       "        vertical-align: middle;\n",
       "    }\n",
       "\n",
       "    .dataframe tbody tr th {\n",
       "        vertical-align: top;\n",
       "    }\n",
       "\n",
       "    .dataframe thead th {\n",
       "        text-align: right;\n",
       "    }\n",
       "</style>\n",
       "<table border=\"1\" class=\"dataframe\">\n",
       "  <thead>\n",
       "    <tr style=\"text-align: right;\">\n",
       "      <th></th>\n",
       "      <th>alcaldia_hechos</th>\n",
       "      <th>Crimes</th>\n",
       "    </tr>\n",
       "  </thead>\n",
       "  <tbody>\n",
       "    <tr>\n",
       "      <th>5</th>\n",
       "      <td>CUAUHTEMOC</td>\n",
       "      <td>131,397</td>\n",
       "    </tr>\n",
       "    <tr>\n",
       "      <th>8</th>\n",
       "      <td>IZTAPALAPA</td>\n",
       "      <td>119,926</td>\n",
       "    </tr>\n",
       "    <tr>\n",
       "      <th>6</th>\n",
       "      <td>GUSTAVO A MADERO</td>\n",
       "      <td>80,097</td>\n",
       "    </tr>\n",
       "    <tr>\n",
       "      <th>2</th>\n",
       "      <td>BENITO JUAREZ</td>\n",
       "      <td>70,599</td>\n",
       "    </tr>\n",
       "    <tr>\n",
       "      <th>3</th>\n",
       "      <td>COYOACAN</td>\n",
       "      <td>54,235</td>\n",
       "    </tr>\n",
       "    <tr>\n",
       "      <th>10</th>\n",
       "      <td>MIGUEL HIDALGO</td>\n",
       "      <td>53,688</td>\n",
       "    </tr>\n",
       "    <tr>\n",
       "      <th>0</th>\n",
       "      <td>ALVARO OBREGON</td>\n",
       "      <td>52,568</td>\n",
       "    </tr>\n",
       "    <tr>\n",
       "      <th>14</th>\n",
       "      <td>VENUSTIANO CARRANZA</td>\n",
       "      <td>46,224</td>\n",
       "    </tr>\n",
       "    <tr>\n",
       "      <th>13</th>\n",
       "      <td>TLALPAN</td>\n",
       "      <td>46,179</td>\n",
       "    </tr>\n",
       "    <tr>\n",
       "      <th>1</th>\n",
       "      <td>AZCAPOTZALCO</td>\n",
       "      <td>39,435</td>\n",
       "    </tr>\n",
       "    <tr>\n",
       "      <th>7</th>\n",
       "      <td>IZTACALCO</td>\n",
       "      <td>34,407</td>\n",
       "    </tr>\n",
       "    <tr>\n",
       "      <th>15</th>\n",
       "      <td>XOCHIMILCO</td>\n",
       "      <td>24,639</td>\n",
       "    </tr>\n",
       "    <tr>\n",
       "      <th>12</th>\n",
       "      <td>TLAHUAC</td>\n",
       "      <td>18,197</td>\n",
       "    </tr>\n",
       "    <tr>\n",
       "      <th>9</th>\n",
       "      <td>LA MAGDALENA CONTRERAS</td>\n",
       "      <td>12,064</td>\n",
       "    </tr>\n",
       "    <tr>\n",
       "      <th>4</th>\n",
       "      <td>CUAJIMALPA DE MORELOS</td>\n",
       "      <td>11,393</td>\n",
       "    </tr>\n",
       "    <tr>\n",
       "      <th>11</th>\n",
       "      <td>MILPA ALTA</td>\n",
       "      <td>5,159</td>\n",
       "    </tr>\n",
       "  </tbody>\n",
       "</table>\n",
       "</div>"
      ],
      "text/plain": [
       "           alcaldia_hechos   Crimes\n",
       "5               CUAUHTEMOC  131,397\n",
       "8               IZTAPALAPA  119,926\n",
       "6         GUSTAVO A MADERO   80,097\n",
       "2            BENITO JUAREZ   70,599\n",
       "3                 COYOACAN   54,235\n",
       "10          MIGUEL HIDALGO   53,688\n",
       "0           ALVARO OBREGON   52,568\n",
       "14     VENUSTIANO CARRANZA   46,224\n",
       "13                 TLALPAN   46,179\n",
       "1             AZCAPOTZALCO   39,435\n",
       "7                IZTACALCO   34,407\n",
       "15              XOCHIMILCO   24,639\n",
       "12                 TLAHUAC   18,197\n",
       "9   LA MAGDALENA CONTRERAS   12,064\n",
       "4    CUAJIMALPA DE MORELOS   11,393\n",
       "11              MILPA ALTA    5,159"
      ]
     },
     "execution_count": 124,
     "metadata": {},
     "output_type": "execute_result"
    }
   ],
   "source": [
    "df_citys=df.groupby('alcaldia_hechos').size().reset_index(name=\"Crimes\").sort_values(by=\"Crimes\", ascending=False)\n",
    "df_citys['Crimes']=df_citys['Crimes'].map('{:,d}'.format)\n",
    "df_citys"
   ]
  },
  {
   "cell_type": "code",
   "execution_count": 78,
   "metadata": {},
   "outputs": [],
   "source": [
    "# In each city, what are the top 3 subcities (\"Colonias\") with most crimes?"
   ]
  },
  {
   "cell_type": "code",
   "execution_count": 130,
   "metadata": {},
   "outputs": [
    {
     "data": {
      "text/html": [
       "<div>\n",
       "<style scoped>\n",
       "    .dataframe tbody tr th:only-of-type {\n",
       "        vertical-align: middle;\n",
       "    }\n",
       "\n",
       "    .dataframe tbody tr th {\n",
       "        vertical-align: top;\n",
       "    }\n",
       "\n",
       "    .dataframe thead th {\n",
       "        text-align: right;\n",
       "    }\n",
       "</style>\n",
       "<table border=\"1\" class=\"dataframe\">\n",
       "  <thead>\n",
       "    <tr style=\"text-align: right;\">\n",
       "      <th></th>\n",
       "      <th></th>\n",
       "      <th>Crimes</th>\n",
       "    </tr>\n",
       "    <tr>\n",
       "      <th>alcaldia_hechos</th>\n",
       "      <th>colonia_hechos</th>\n",
       "      <th></th>\n",
       "    </tr>\n",
       "  </thead>\n",
       "  <tbody>\n",
       "    <tr>\n",
       "      <th rowspan=\"3\" valign=\"top\">ALVARO OBREGON</th>\n",
       "      <th>JARDINES DEL PEDREGAL</th>\n",
       "      <td>2335</td>\n",
       "    </tr>\n",
       "    <tr>\n",
       "      <th>SAN ANGEL</th>\n",
       "      <td>2019</td>\n",
       "    </tr>\n",
       "    <tr>\n",
       "      <th>ZEDEC SANTA FE</th>\n",
       "      <td>1843</td>\n",
       "    </tr>\n",
       "    <tr>\n",
       "      <th rowspan=\"3\" valign=\"top\">AZCAPOTZALCO</th>\n",
       "      <th>EL ROSARIO</th>\n",
       "      <td>2820</td>\n",
       "    </tr>\n",
       "    <tr>\n",
       "      <th>INDUSTRIAL VALLEJO</th>\n",
       "      <td>1930</td>\n",
       "    </tr>\n",
       "    <tr>\n",
       "      <th>CENTRO DE AZCAPOTZALCO</th>\n",
       "      <td>1796</td>\n",
       "    </tr>\n",
       "    <tr>\n",
       "      <th rowspan=\"3\" valign=\"top\">BENITO JUAREZ</th>\n",
       "      <th>DEL VALLE CENTRO</th>\n",
       "      <td>12644</td>\n",
       "    </tr>\n",
       "    <tr>\n",
       "      <th>NARVARTE</th>\n",
       "      <td>9317</td>\n",
       "    </tr>\n",
       "    <tr>\n",
       "      <th>PORTALES SUR</th>\n",
       "      <td>4587</td>\n",
       "    </tr>\n",
       "    <tr>\n",
       "      <th rowspan=\"3\" valign=\"top\">COYOACAN</th>\n",
       "      <th>PEDREGAL DE SANTO DOMINGO</th>\n",
       "      <td>4434</td>\n",
       "    </tr>\n",
       "    <tr>\n",
       "      <th>AJUSCO</th>\n",
       "      <td>2377</td>\n",
       "    </tr>\n",
       "    <tr>\n",
       "      <th>DEL CARMEN</th>\n",
       "      <td>2348</td>\n",
       "    </tr>\n",
       "    <tr>\n",
       "      <th rowspan=\"3\" valign=\"top\">CUAJIMALPA DE MORELOS</th>\n",
       "      <th>CUAJIMALPA</th>\n",
       "      <td>1693</td>\n",
       "    </tr>\n",
       "    <tr>\n",
       "      <th>LOMAS DE SANTA FE</th>\n",
       "      <td>1655</td>\n",
       "    </tr>\n",
       "    <tr>\n",
       "      <th>SAN JOSÉ DE LOS CEDROS</th>\n",
       "      <td>1008</td>\n",
       "    </tr>\n",
       "    <tr>\n",
       "      <th rowspan=\"3\" valign=\"top\">CUAUHTEMOC</th>\n",
       "      <th>CENTRO</th>\n",
       "      <td>28751</td>\n",
       "    </tr>\n",
       "    <tr>\n",
       "      <th>DOCTORES</th>\n",
       "      <td>16657</td>\n",
       "    </tr>\n",
       "    <tr>\n",
       "      <th>ROMA NORTE</th>\n",
       "      <td>10403</td>\n",
       "    </tr>\n",
       "    <tr>\n",
       "      <th rowspan=\"3\" valign=\"top\">GUSTAVO A MADERO</th>\n",
       "      <th>LINDAVISTA</th>\n",
       "      <td>3737</td>\n",
       "    </tr>\n",
       "    <tr>\n",
       "      <th>GUADALUPE TEPEYAC</th>\n",
       "      <td>3208</td>\n",
       "    </tr>\n",
       "    <tr>\n",
       "      <th>SAN FELIPE DE JESÚS</th>\n",
       "      <td>2284</td>\n",
       "    </tr>\n",
       "    <tr>\n",
       "      <th rowspan=\"3\" valign=\"top\">IZTACALCO</th>\n",
       "      <th>AGRÍCOLA ORIENTAL</th>\n",
       "      <td>6663</td>\n",
       "    </tr>\n",
       "    <tr>\n",
       "      <th>AGRÍCOLA PANTITLAN</th>\n",
       "      <td>5476</td>\n",
       "    </tr>\n",
       "    <tr>\n",
       "      <th>GRANJAS MÉXICO</th>\n",
       "      <td>3604</td>\n",
       "    </tr>\n",
       "    <tr>\n",
       "      <th rowspan=\"3\" valign=\"top\">IZTAPALAPA</th>\n",
       "      <th>CENTRAL DE ABASTO</th>\n",
       "      <td>5264</td>\n",
       "    </tr>\n",
       "    <tr>\n",
       "      <th>LOMAS DE SAN LORENZO</th>\n",
       "      <td>3060</td>\n",
       "    </tr>\n",
       "    <tr>\n",
       "      <th>DESARROLLO URBANO QUETZALCOATL</th>\n",
       "      <td>2990</td>\n",
       "    </tr>\n",
       "    <tr>\n",
       "      <th rowspan=\"3\" valign=\"top\">LA MAGDALENA CONTRERAS</th>\n",
       "      <th>SAN JERÓNIMO LÍDICE</th>\n",
       "      <td>1452</td>\n",
       "    </tr>\n",
       "    <tr>\n",
       "      <th>SAN NICOLÁS TOTOLAPAN</th>\n",
       "      <td>1008</td>\n",
       "    </tr>\n",
       "    <tr>\n",
       "      <th>SAN BERNABÉ OCOTEPEC</th>\n",
       "      <td>672</td>\n",
       "    </tr>\n",
       "    <tr>\n",
       "      <th rowspan=\"3\" valign=\"top\">MIGUEL HIDALGO</th>\n",
       "      <th>POLANCO</th>\n",
       "      <td>7131</td>\n",
       "    </tr>\n",
       "    <tr>\n",
       "      <th>ANAHUAC</th>\n",
       "      <td>3796</td>\n",
       "    </tr>\n",
       "    <tr>\n",
       "      <th>LOMAS DE CHAPULTEPEC I SECCIÓN</th>\n",
       "      <td>3196</td>\n",
       "    </tr>\n",
       "    <tr>\n",
       "      <th rowspan=\"3\" valign=\"top\">MILPA ALTA</th>\n",
       "      <th>CRUZTITLA (SAN ANTONIO TECOMITL)</th>\n",
       "      <td>390</td>\n",
       "    </tr>\n",
       "    <tr>\n",
       "      <th>SANTA MARTHA (VILLA MILPA ALTA)</th>\n",
       "      <td>342</td>\n",
       "    </tr>\n",
       "    <tr>\n",
       "      <th>SAN MIGUEL (SAN PABLO OZTOTEPEC)</th>\n",
       "      <td>340</td>\n",
       "    </tr>\n",
       "    <tr>\n",
       "      <th rowspan=\"3\" valign=\"top\">TLAHUAC</th>\n",
       "      <th>DEL MAR</th>\n",
       "      <td>1121</td>\n",
       "    </tr>\n",
       "    <tr>\n",
       "      <th>MIGUEL HIDALGO</th>\n",
       "      <td>1058</td>\n",
       "    </tr>\n",
       "    <tr>\n",
       "      <th>SAN FRANCISCO TLALTENCO</th>\n",
       "      <td>881</td>\n",
       "    </tr>\n",
       "    <tr>\n",
       "      <th rowspan=\"3\" valign=\"top\">TLALPAN</th>\n",
       "      <th>SAN ANDRÉS TOTOLTEPEC</th>\n",
       "      <td>3000</td>\n",
       "    </tr>\n",
       "    <tr>\n",
       "      <th>TLALPAN CENTRO I</th>\n",
       "      <td>1832</td>\n",
       "    </tr>\n",
       "    <tr>\n",
       "      <th>HÉROES DE PADIERNA</th>\n",
       "      <td>1798</td>\n",
       "    </tr>\n",
       "    <tr>\n",
       "      <th rowspan=\"3\" valign=\"top\">VENUSTIANO CARRANZA</th>\n",
       "      <th>JARDÍN BALBUENA</th>\n",
       "      <td>4464</td>\n",
       "    </tr>\n",
       "    <tr>\n",
       "      <th>MOCTEZUMA 2A SECCIÓN</th>\n",
       "      <td>3549</td>\n",
       "    </tr>\n",
       "    <tr>\n",
       "      <th>ZONA CENTRO</th>\n",
       "      <td>3060</td>\n",
       "    </tr>\n",
       "    <tr>\n",
       "      <th rowspan=\"3\" valign=\"top\">XOCHIMILCO</th>\n",
       "      <th>SAN GREGORIO ATLAPULCO</th>\n",
       "      <td>1607</td>\n",
       "    </tr>\n",
       "    <tr>\n",
       "      <th>SANTIAGO TEPALCATLALPAN</th>\n",
       "      <td>1301</td>\n",
       "    </tr>\n",
       "    <tr>\n",
       "      <th>SANTA CRUZ ACALPIXCA - PUEBLO</th>\n",
       "      <td>1223</td>\n",
       "    </tr>\n",
       "  </tbody>\n",
       "</table>\n",
       "</div>"
      ],
      "text/plain": [
       "                                                         Crimes\n",
       "alcaldia_hechos        colonia_hechos                          \n",
       "ALVARO OBREGON         JARDINES DEL PEDREGAL               2335\n",
       "                       SAN ANGEL                           2019\n",
       "                       ZEDEC SANTA FE                      1843\n",
       "AZCAPOTZALCO           EL ROSARIO                          2820\n",
       "                       INDUSTRIAL VALLEJO                  1930\n",
       "                       CENTRO DE AZCAPOTZALCO              1796\n",
       "BENITO JUAREZ          DEL VALLE CENTRO                   12644\n",
       "                       NARVARTE                            9317\n",
       "                       PORTALES SUR                        4587\n",
       "COYOACAN               PEDREGAL DE SANTO DOMINGO           4434\n",
       "                       AJUSCO                              2377\n",
       "                       DEL CARMEN                          2348\n",
       "CUAJIMALPA DE MORELOS  CUAJIMALPA                          1693\n",
       "                       LOMAS DE SANTA FE                   1655\n",
       "                       SAN JOSÉ DE LOS CEDROS              1008\n",
       "CUAUHTEMOC             CENTRO                             28751\n",
       "                       DOCTORES                           16657\n",
       "                       ROMA NORTE                         10403\n",
       "GUSTAVO A MADERO       LINDAVISTA                          3737\n",
       "                       GUADALUPE TEPEYAC                   3208\n",
       "                       SAN FELIPE DE JESÚS                 2284\n",
       "IZTACALCO              AGRÍCOLA ORIENTAL                   6663\n",
       "                       AGRÍCOLA PANTITLAN                  5476\n",
       "                       GRANJAS MÉXICO                      3604\n",
       "IZTAPALAPA             CENTRAL DE ABASTO                   5264\n",
       "                       LOMAS DE SAN LORENZO                3060\n",
       "                       DESARROLLO URBANO QUETZALCOATL      2990\n",
       "LA MAGDALENA CONTRERAS SAN JERÓNIMO LÍDICE                 1452\n",
       "                       SAN NICOLÁS TOTOLAPAN               1008\n",
       "                       SAN BERNABÉ OCOTEPEC                 672\n",
       "MIGUEL HIDALGO         POLANCO                             7131\n",
       "                       ANAHUAC                             3796\n",
       "                       LOMAS DE CHAPULTEPEC I SECCIÓN      3196\n",
       "MILPA ALTA             CRUZTITLA (SAN ANTONIO TECOMITL)     390\n",
       "                       SANTA MARTHA (VILLA MILPA ALTA)      342\n",
       "                       SAN MIGUEL (SAN PABLO OZTOTEPEC)     340\n",
       "TLAHUAC                DEL MAR                             1121\n",
       "                       MIGUEL HIDALGO                      1058\n",
       "                       SAN FRANCISCO TLALTENCO              881\n",
       "TLALPAN                SAN ANDRÉS TOTOLTEPEC               3000\n",
       "                       TLALPAN CENTRO I                    1832\n",
       "                       HÉROES DE PADIERNA                  1798\n",
       "VENUSTIANO CARRANZA    JARDÍN BALBUENA                     4464\n",
       "                       MOCTEZUMA 2A SECCIÓN                3549\n",
       "                       ZONA CENTRO                         3060\n",
       "XOCHIMILCO             SAN GREGORIO ATLAPULCO              1607\n",
       "                       SANTIAGO TEPALCATLALPAN             1301\n",
       "                       SANTA CRUZ ACALPIXCA - PUEBLO       1223"
      ]
     },
     "execution_count": 130,
     "metadata": {},
     "output_type": "execute_result"
    }
   ],
   "source": [
    "df.groupby(['alcaldia_hechos','colonia_hechos']).size().to_frame().rename(columns={0:'Crimes'}).sort_values(by=['alcaldia_hechos','Crimes'], ascending=[True,False]).groupby(level=0).head(3)"
   ]
  },
  {
   "cell_type": "code",
   "execution_count": 135,
   "metadata": {},
   "outputs": [
    {
     "data": {
      "text/plain": [
       "<AxesSubplot:xlabel='month'>"
      ]
     },
     "execution_count": 135,
     "metadata": {},
     "output_type": "execute_result"
    },
    {
     "data": {
      "image/png": "[encoded data removed]",
      "text/plain": [
       "<Figure size 432x288 with 1 Axes>"
      ]
     },
     "metadata": {
      "needs_background": "light"
     },
     "output_type": "display_data"
    }
   ],
   "source": [
    "# Do you see a trend per month or day?\n",
    "df.groupby([df['fecha_hechos'].dt.year.rename('year'),df['fecha_hechos'].dt.month.rename('month')]).size().unstack('year').plot()"
   ]
  },
  {
   "cell_type": "code",
   "execution_count": 136,
   "metadata": {},
   "outputs": [
    {
     "data": {
      "text/plain": [
       "<AxesSubplot:xlabel='day'>"
      ]
     },
     "execution_count": 136,
     "metadata": {},
     "output_type": "execute_result"
    },
    {
     "data": {
      "image/png": "[encoded data removed]",
      "text/plain": [
       "<Figure size 432x288 with 1 Axes>"
      ]
     },
     "metadata": {
      "needs_background": "light"
     },
     "output_type": "display_data"
    }
   ],
   "source": [
    "df.groupby([df['fecha_hechos'].dt.year.rename('year'),df['fecha_hechos'].dt.day.rename('day')]).size().unstack('year').plot()"
   ]
  },
  {
   "cell_type": "code",
   "execution_count": 137,
   "metadata": {},
   "outputs": [
    {
     "data": {
      "text/plain": [
       "<AxesSubplot:xlabel='day'>"
      ]
     },
     "execution_count": 137,
     "metadata": {},
     "output_type": "execute_result"
    },
    {
     "data": {
      "image/png": "[encoded data removed]",
      "text/plain": [
       "<Figure size 432x288 with 1 Axes>"
      ]
     },
     "metadata": {
      "needs_background": "light"
     },
     "output_type": "display_data"
    }
   ],
   "source": [
    "df.groupby([df['fecha_hechos'].dt.year.rename('year'),df['fecha_hechos'].dt.dayofweek.rename('day')]).size().unstack('year').plot()"
   ]
  },
  {
   "cell_type": "code",
   "execution_count": 4,
   "metadata": {},
   "outputs": [
    {
     "ename": "NameError",
     "evalue": "name 'df' is not defined",
     "output_type": "error",
     "traceback": [
      "\u001b[0;31m---------------------------------------------------------------------------\u001b[0m",
      "\u001b[0;31mNameError\u001b[0m                                 Traceback (most recent call last)",
      "\u001b[1;32m/workspace/Ejercicio_en_clase_delito/Crimes_4GKS_Cindy.ipynb Cell 34'\u001b[0m in \u001b[0;36m<cell line: 1>\u001b[0;34m()\u001b[0m\n\u001b[0;32m----> <a href='vscode-notebook-cell://marfurt1-ejercicioencla-5jsg7y37h6n.ws-us47.gitpod.io/workspace/Ejercicio_en_clase_delito/Crimes_4GKS_Cindy.ipynb#ch0000033vscode-remote?line=0'>1</a>\u001b[0m df\u001b[39m.\u001b[39mgroupby([df[\u001b[39m'\u001b[39m\u001b[39mfecha_hechos\u001b[39m\u001b[39m'\u001b[39m]\u001b[39m.\u001b[39mdt\u001b[39m.\u001b[39myear\u001b[39m.\u001b[39mrename(\u001b[39m'\u001b[39m\u001b[39myear\u001b[39m\u001b[39m'\u001b[39m),df[\u001b[39m'\u001b[39m\u001b[39mfecha_hechos\u001b[39m\u001b[39m'\u001b[39m]\u001b[39m.\u001b[39mdt\u001b[39m.\u001b[39mweek\u001b[39m.\u001b[39mrename(\u001b[39m'\u001b[39m\u001b[39mweek\u001b[39m\u001b[39m'\u001b[39m)])\u001b[39m.\u001b[39msize()\u001b[39m.\u001b[39munstack(\u001b[39m'\u001b[39m\u001b[39myear\u001b[39m\u001b[39m'\u001b[39m)\u001b[39m.\u001b[39mplot()\n",
      "\u001b[0;31mNameError\u001b[0m: name 'df' is not defined"
     ]
    }
   ],
   "source": [
    "df.groupby([df['fecha_hechos'].dt.year.rename('year'),df['fecha_hechos'].dt.week.rename('week')]).size().unstack('year').plot()"
   ]
  },
  {
   "cell_type": "code",
   "execution_count": 7,
   "metadata": {},
   "outputs": [
    {
     "ename": "NameError",
     "evalue": "name 'df' is not defined",
     "output_type": "error",
     "traceback": [
      "\u001b[0;31m---------------------------------------------------------------------------\u001b[0m",
      "\u001b[0;31mNameError\u001b[0m                                 Traceback (most recent call last)",
      "\u001b[1;32m/workspace/Ejercicio_en_clase_delito/Crimes_4GKS_Cindy.ipynb Cell 35'\u001b[0m in \u001b[0;36m<cell line: 1>\u001b[0;34m()\u001b[0m\n\u001b[0;32m----> <a href='vscode-notebook-cell://marfurt1-ejercicioencla-5jsg7y37h6n.ws-us47.gitpod.io/workspace/Ejercicio_en_clase_delito/Crimes_4GKS_Cindy.ipynb#ch0000037vscode-remote?line=0'>1</a>\u001b[0m df\u001b[39m=\u001b[39mdf[df[\u001b[39m\"\u001b[39m\u001b[39malcaldia_hechos\u001b[39m\u001b[39m\"\u001b[39m]\u001b[39m.\u001b[39misin([\u001b[39m'\u001b[39m\u001b[39mALVARO OBREGON\u001b[39m\u001b[39m'\u001b[39m,\u001b[39m'\u001b[39m\u001b[39mAZCAPOTZALCO\u001b[39m\u001b[39m'\u001b[39m,\u001b[39m'\u001b[39m\u001b[39mBENITO JUAREZ\u001b[39m\u001b[39m'\u001b[39m,\u001b[39m'\u001b[39m\u001b[39mCOYOACAN\u001b[39m\u001b[39m'\u001b[39m,\u001b[39m'\u001b[39m\u001b[39mCUAJIMALPA DE MORELOS\u001b[39m\u001b[39m'\u001b[39m,\u001b[39m'\u001b[39m\u001b[39mCUAUHTEMOC\u001b[39m\u001b[39m'\u001b[39m,\u001b[39m'\u001b[39m\u001b[39mGUSTAVO A MADERO\u001b[39m\u001b[39m'\u001b[39m,\u001b[39m'\u001b[39m\u001b[39mIZTACALCO\u001b[39m\u001b[39m'\u001b[39m,\u001b[39m'\u001b[39m\u001b[39mIZTAPALAPA\u001b[39m\u001b[39m'\u001b[39m,\u001b[39m'\u001b[39m\u001b[39mLA MAGDALENA CONTRERAS\u001b[39m\u001b[39m'\u001b[39m,\u001b[39m'\u001b[39m\u001b[39mMIGUEL HIDALGO\u001b[39m\u001b[39m'\u001b[39m,\u001b[39m'\u001b[39m\u001b[39mMILPA ALTA\u001b[39m\u001b[39m'\u001b[39m,\u001b[39m'\u001b[39m\u001b[39mTLAHUAC\u001b[39m\u001b[39m'\u001b[39m,\u001b[39m'\u001b[39m\u001b[39mTLALPAN\u001b[39m\u001b[39m'\u001b[39m,\u001b[39m'\u001b[39m\u001b[39mVENUSTIANO CARRANZA\u001b[39m\u001b[39m'\u001b[39m,\u001b[39m'\u001b[39m\u001b[39mXOCHIMILCO\u001b[39m\u001b[39m'\u001b[39m])]\n\u001b[1;32m      <a href='vscode-notebook-cell://marfurt1-ejercicioencla-5jsg7y37h6n.ws-us47.gitpod.io/workspace/Ejercicio_en_clase_delito/Crimes_4GKS_Cindy.ipynb#ch0000037vscode-remote?line=1'>2</a>\u001b[0m df\u001b[39m.\u001b[39minfo()\n",
      "\u001b[0;31mNameError\u001b[0m: name 'df' is not defined"
     ]
    }
   ],
   "source": [
    "df=df[df[\"alcaldia_hechos\"].isin(['ALVARO OBREGON','AZCAPOTZALCO','BENITO JUAREZ','COYOACAN','CUAJIMALPA DE MORELOS','CUAUHTEMOC','GUSTAVO A MADERO','IZTACALCO','IZTAPALAPA','LA MAGDALENA CONTRERAS','MIGUEL HIDALGO','MILPA ALTA','TLAHUAC','TLALPAN','VENUSTIANO CARRANZA','XOCHIMILCO'])]\n",
    "df.info()"
   ]
  },
  {
   "cell_type": "code",
   "execution_count": 5,
   "metadata": {},
   "outputs": [
    {
     "ename": "SyntaxError",
     "evalue": "invalid syntax (816764106.py, line 4)",
     "output_type": "error",
     "traceback": [
      "\u001b[0;36m  Input \u001b[0;32mIn [5]\u001b[0;36m\u001b[0m\n\u001b[0;31m    table= df[['alcaldia_hechos, hechos']]pivot_table(index ='alcaldia_hecho', columns='delito',values='delito', aggfungc=len)\u001b[0m\n\u001b[0m                                          ^\u001b[0m\n\u001b[0;31mSyntaxError\u001b[0m\u001b[0;31m:\u001b[0m invalid syntax\n"
     ]
    }
   ],
   "source": [
    "df['Delito'].unique\n",
    "top_20 = df.groupby('delito').size(name = 'cantidad').to_frame(mame='Count').sort_values(by='Count',ascending=False)\n",
    "top_20\n",
    "top_20 = df.groupby('delito').size().to_frame(name='Count').sort_values(by= 'Count', ascending=False)\n",
    "\n",
    "table = df[['alcaldia_hechos', 'delito']].pivot_table(index= 'alcaldia_hechos', columns= 'delito', values= 'delito', aggfunc= len).fillna(0)[top_20.index[:20]]\n",
    "\n",
    "table \n"
   ]
  },
  {
   "cell_type": "code",
   "execution_count": null,
   "metadata": {},
   "outputs": [],
   "source": [
    "table_sc_cities=table.apply(lambda x: x/sum(x), axis =0 )\n",
    "table_sc_crimes=table.apply(lambda x: x/sum(x), axis =1 )\n"
   ]
  },
  {
   "cell_type": "code",
   "execution_count": null,
   "metadata": {},
   "outputs": [],
   "source": [
    "\"create a heatmap \"\n",
    "fig, ax = plt.subplots(figsize=(12, 8))\n",
    "\n",
    "im = ax.imshow(table_sc_cities, cmap=\"hot_r\")\n",
    "\n",
    "ax.set_xticks(np.arange(table_sc_cities.shape[1]))\n",
    "\n",
    "ax.set_yticks(np.arange(table_sc_cities.shape[0]))\n",
    "\n",
    "ax.set_xticklabels(table_sc_cities.columns.to_list())\n",
    "\n",
    "ax.set_yticklabels(table_sc_cities.index.to_list())\n",
    "\n",
    "plt.setp(ax.get_xticklabels(), rotation=45, ha=\"right\", rotation_mode=\"anchor\")\n",
    "\n",
    "plt.colorbar(im)\n",
    "\n",
    "plt.show()\n"
   ]
  },
  {
   "cell_type": "code",
   "execution_count": null,
   "metadata": {},
   "outputs": [],
   "source": [
    "fig, ax = plt.subplots(figsize=(12,8))\n",
    "\n",
    "im= ax.imshow(table_sc_crime, cmap= 'hot_r')\n",
    "\n",
    "ax.set_xticks(np.arange(table_sc_crime.shape[1]))\n",
    "\n",
    "ax.set_yticks(np.arange(table_sc_crime.shape[0]))\n",
    "\n",
    "ax.set_xticklabels(table_sc_crime.columns.to_list())\n",
    "\n",
    "ax.set_yticklabels(table_sc_crime.index.to_list())\n",
    "\n",
    "plt.setp(ax.get_xticklabels(),rotation=45, ha='right', rotation_mode= 'anchor')\n",
    "\n",
    "plt.colorbar(im)\n",
    "\n",
    "plt.show()"
   ]
  },
  {
   "cell_type": "code",
   "execution_count": null,
   "metadata": {},
   "outputs": [],
   "source": [
    "fig, ax = plt.subplots(figsize=(12, 8))\n",
    "\n",
    "sns.heatmap(table_sc_cities, cmap=\"hot_r\")\n",
    "\n",
    "ax.plot()\n",
    "\n",
    "plt.show()\n"
   ]
  },
  {
   "cell_type": "code",
   "execution_count": null,
   "metadata": {},
   "outputs": [],
   "source": [
    "fig, ax = plt.subplots(figsize=(12, 8))\n",
    "\n",
    "sns.heatmap(table_sc_crimes, cmap=\"hot_r\")\n",
    "\n",
    "ax.plot()\n",
    "\n",
    "plt.show()"
   ]
  },
  {
   "cell_type": "code",
   "execution_count": null,
   "metadata": {},
   "outputs": [],
   "source": [
    "fig = px.imshow(table_sc_cities, color_continuous_scale= 'hot_r', aspect='auto')\n",
    "\n",
    "fig.update_xaxes(tickangle=-45)\n",
    "\n",
    "fig.show()\n"
   ]
  },
  {
   "cell_type": "code",
   "execution_count": null,
   "metadata": {},
   "outputs": [],
   "source": [
    "fig = px.imshow(table_sc_cities.T, color_continuous_scale= 'hot_r', aspect='auto')\n",
    "\n",
    "fig.update_xaxes(tickangle=-45)\n",
    "\n",
    "fig.show()"
   ]
  },
  {
   "cell_type": "code",
   "execution_count": 12,
   "metadata": {},
   "outputs": [
    {
     "ename": "NameError",
     "evalue": "name 'df' is not defined",
     "output_type": "error",
     "traceback": [
      "\u001b[0;31m---------------------------------------------------------------------------\u001b[0m",
      "\u001b[0;31mNameError\u001b[0m                                 Traceback (most recent call last)",
      "\u001b[1;32m/workspace/Ejercicio_en_clase_delito/Crimes_4GKS_Cindy.ipynb Cell 44'\u001b[0m in \u001b[0;36m<cell line: 2>\u001b[0;34m()\u001b[0m\n\u001b[1;32m      <a href='vscode-notebook-cell://marfurt1-ejercicioencla-5jsg7y37h6n.ws-us47.gitpod.io/workspace/Ejercicio_en_clase_delito/Crimes_4GKS_Cindy.ipynb#ch0000045vscode-remote?line=0'>1</a>\u001b[0m crime\u001b[39m=\u001b[39m\u001b[39m'\u001b[39m\u001b[39mROBO A TRANSEUNTE DE CELULAR CON VIOLENCIA\u001b[39m\u001b[39m'\u001b[39m\n\u001b[0;32m----> <a href='vscode-notebook-cell://marfurt1-ejercicioencla-5jsg7y37h6n.ws-us47.gitpod.io/workspace/Ejercicio_en_clase_delito/Crimes_4GKS_Cindy.ipynb#ch0000045vscode-remote?line=1'>2</a>\u001b[0m df_rob\u001b[39m=\u001b[39mdf[df[\u001b[39m'\u001b[39m\u001b[39mdelito\u001b[39m\u001b[39m'\u001b[39m]\u001b[39m==\u001b[39mcrime][[\u001b[39m'\u001b[39m\u001b[39mdelito\u001b[39m\u001b[39m'\u001b[39m, \u001b[39m'\u001b[39m\u001b[39mlongitud\u001b[39m\u001b[39m'\u001b[39m, \u001b[39m'\u001b[39m\u001b[39mlatitud\u001b[39m\u001b[39m'\u001b[39m, \u001b[39m'\u001b[39m\u001b[39mfecha_hechos\u001b[39m\u001b[39m'\u001b[39m]]\n\u001b[1;32m      <a href='vscode-notebook-cell://marfurt1-ejercicioencla-5jsg7y37h6n.ws-us47.gitpod.io/workspace/Ejercicio_en_clase_delito/Crimes_4GKS_Cindy.ipynb#ch0000045vscode-remote?line=2'>3</a>\u001b[0m df_rob\n",
      "\u001b[0;31mNameError\u001b[0m: name 'df' is not defined"
     ]
    }
   ],
   "source": [
    "crime='ROBO A TRANSEUNTE DE CELULAR CON VIOLENCIA'\n",
    "df_rob=df[df['delito']==crime][['delito', 'longitud', 'latitud', 'fecha_hechos']]\n",
    "df_rob.info()\n"
   ]
  },
  {
   "cell_type": "code",
   "execution_count": null,
   "metadata": {},
   "outputs": [],
   "source": [
    "df_rob=df_rob[df_rob['longitud'].notna()]\n",
    "df_rob.info\n"
   ]
  },
  {
   "cell_type": "code",
   "execution_count": null,
   "metadata": {},
   "outputs": [],
   "source": [
    "df_rob=df_rob.sort_values(by='fecha_hechos')\n",
    "fin=pd.to_datetime('2016-03-31')\n",
    "df_rob['fecha_hechos']=pd.to_datetime(df_rob['fecha_hechos'], format='%Y-%m-%d')\n",
    "df_rob=df_rob[df_rob['fecha_hechos']<=fin]\n",
    "#df_rob['fecha_hechos']=pd.to_datetime(df_rob['fecha_hechos']).date()\n",
    "df_rob"
   ]
  },
  {
   "cell_type": "code",
   "execution_count": null,
   "metadata": {},
   "outputs": [],
   "source": [
    "map=folium.Map()\n",
    "\n",
    "for i in range(len(df_rob)):\n",
    "    lat=df_rob['latitud'].to_list()[i]\n",
    "    lon=df_rob['longitud'].to_list()[i]\n",
    "    folium.Marker(location=[lat, lon], icon=folium.Icon(color='red', icon='check', prefix='fa')).add_to(map)\n",
    "map\n"
   ]
  },
  {
   "cell_type": "code",
   "execution_count": null,
   "metadata": {},
   "outputs": [],
   "source": [
    "map = folium.Map()\n",
    "\n",
    "\n",
    "\n",
    "mc = MarkerCluster().add_to(map)\n",
    "\n",
    "\n",
    "\n",
    "for i in range(len(df_rob)):\n",
    "\n",
    "    lat = df_rob[\"latitud\"].to_list()[i]\n",
    "\n",
    "    lon = df_rob[\"longitud\"].to_list()[i]\n",
    "\n",
    "    folium.Marker(location=[lat, lon], icon=folium.Icon(color=\"red\", icon=\"check\", prefix=\"fa\")).add_to(mc)\n",
    "\n",
    "\n",
    "\n",
    "map\n"
   ]
  },
  {
   "cell_type": "code",
   "execution_count": null,
   "metadata": {},
   "outputs": [],
   "source": []
  }
 ],
 "metadata": {
  "kernelspec": {
   "display_name": "Python 3.8.13 64-bit ('3.8.13')",
   "language": "python",
   "name": "python3"
  },
  "language_info": {
   "codemirror_mode": {
    "name": "ipython",
    "version": 3
   },
   "file_extension": ".py",
   "mimetype": "text/x-python",
   "name": "python",
   "nbconvert_exporter": "python",
   "pygments_lexer": "ipython3",
   "version": "3.8.13"
  },
  "orig_nbformat": 4,
  "vscode": {
   "interpreter": {
    "hash": "110cc1dee26208153f2972f08a2ad52b6a56238dc66d48e87fb757ef2996db56"
   }
  }
 },
 "nbformat": 4,
 "nbformat_minor": 2
}
